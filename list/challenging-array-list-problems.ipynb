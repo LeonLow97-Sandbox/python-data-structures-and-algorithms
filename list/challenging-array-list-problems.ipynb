{
 "cells": [
  {
   "cell_type": "markdown",
   "metadata": {},
   "source": [
    "#### Middle Function\n",
    "- Write a function called middle that takes a list and returns a new list that contains all but the first and last elements."
   ]
  },
  {
   "cell_type": "code",
   "execution_count": 39,
   "metadata": {},
   "outputs": [],
   "source": [
    "# myList = [1,2,3,4] \n",
    "# middle(myList)\n",
    "# Output: [2,3]"
   ]
  },
  {
   "cell_type": "code",
   "execution_count": 22,
   "metadata": {},
   "outputs": [
    {
     "data": {
      "text/plain": [
       "[2, 3]"
      ]
     },
     "execution_count": 22,
     "metadata": {},
     "output_type": "execute_result"
    }
   ],
   "source": [
    "# My Solution\n",
    "def middle(lst):\n",
    "  lst.remove(lst[0])\n",
    "  lst.remove(lst[-1])\n",
    "  return lst\n",
    "\n",
    "myList = [1,2,3,4]\n",
    "middle(myList)"
   ]
  },
  {
   "cell_type": "code",
   "execution_count": 15,
   "metadata": {},
   "outputs": [
    {
     "data": {
      "text/plain": [
       "[2, 3]"
      ]
     },
     "execution_count": 15,
     "metadata": {},
     "output_type": "execute_result"
    }
   ],
   "source": [
    "# Teacher's Solution\n",
    "def middle(lst):\n",
    "  new = lst[1:]\n",
    "  del new[-1]\n",
    "  return new\n",
    "\n",
    "myList = [1,2,3,4]\n",
    "middle(myList)"
   ]
  },
  {
   "cell_type": "markdown",
   "metadata": {},
   "source": [
    "#### 2D Lists\n",
    "- Given 2D list, calculate the sum of diagonal elements."
   ]
  },
  {
   "cell_type": "code",
   "execution_count": 23,
   "metadata": {},
   "outputs": [],
   "source": [
    "# Example\n",
    "# myList2D = [[1,2,3], [4,5,6], [7,8,9]]\n",
    "# sumDiagonal(myList2D)"
   ]
  },
  {
   "cell_type": "code",
   "execution_count": 38,
   "metadata": {},
   "outputs": [
    {
     "data": {
      "text/plain": [
       "15"
      ]
     },
     "execution_count": 38,
     "metadata": {},
     "output_type": "execute_result"
    }
   ],
   "source": [
    "def sumDiagonal(lst):\n",
    "  sum = 0\n",
    "  for i in range(len(lst)):\n",
    "    sum += lst[i][i]\n",
    "  return sum\n",
    "\n",
    "myList2D = [[1,2,3], [4,5,6], [7,8,9]]\n",
    "sumDiagonal(myList2D)\n",
    "    "
   ]
  },
  {
   "cell_type": "markdown",
   "metadata": {},
   "source": [
    "#### Best Score\n",
    "- Given a list, write a function to get the first, second best scores from the list.\n",
    "- List may contain duplicates."
   ]
  },
  {
   "cell_type": "code",
   "execution_count": null,
   "metadata": {},
   "outputs": [],
   "source": [
    "# myList = [84,85,86,87,85,90,85,83,23,45,84,1,2,0]\n",
    "# firstSecond(myList) # 90 87"
   ]
  },
  {
   "cell_type": "code",
   "execution_count": 56,
   "metadata": {},
   "outputs": [
    {
     "data": {
      "text/plain": [
       "(90, 87)"
      ]
     },
     "execution_count": 56,
     "metadata": {},
     "output_type": "execute_result"
    }
   ],
   "source": [
    "# My Solution (time complexity O(2N))\n",
    "def firstSecond(givenList):\n",
    "  first = 0\n",
    "  second = 0\n",
    "  for i in givenList: \n",
    "    if i > first:\n",
    "      first = i\n",
    "  \n",
    "  for j in givenList:\n",
    "    if j < first and j > second:\n",
    "      second = j\n",
    "  \n",
    "  return (first, second)\n",
    "\n",
    "myList = [84,85,86,87,85,90,90,85,83,23,45,84,1,2,0]\n",
    "firstSecond(myList)"
   ]
  },
  {
   "cell_type": "code",
   "execution_count": 55,
   "metadata": {},
   "outputs": [
    {
     "name": "stdout",
     "output_type": "stream",
     "text": [
      "[90, 90, 87, 86, 85, 85, 85, 84, 84, 83, 45, 23, 2, 1, 0]\n"
     ]
    },
    {
     "data": {
      "text/plain": [
       "(90, 87)"
      ]
     },
     "execution_count": 55,
     "metadata": {},
     "output_type": "execute_result"
    }
   ],
   "source": [
    "# Teacher's Solution (better because time complexity O(N))\n",
    "def firstSecond(given_list):\n",
    "  a = given_list # make a copy\n",
    "  a.sort(reverse = True)\n",
    "  print(a)\n",
    "  first = a[0]\n",
    "  second = None\n",
    "  \n",
    "  for element in given_list:\n",
    "    if element != first:\n",
    "      second = element\n",
    "\n",
    "      return first, second\n",
    "\n",
    "myList = [84,85,86,87,85,90,90,85,83,23,45,84,1,2,0]\n",
    "firstSecond(myList)  "
   ]
  },
  {
   "cell_type": "markdown",
   "metadata": {},
   "source": [
    "#### Missing Number\n",
    "- Write a function to find the missing number in a given integer array of 1 to 100."
   ]
  },
  {
   "cell_type": "code",
   "execution_count": null,
   "metadata": {},
   "outputs": [],
   "source": [
    "# missingNumber([1,2,3,4,6], 6) # 5"
   ]
  },
  {
   "cell_type": "code",
   "execution_count": 59,
   "metadata": {},
   "outputs": [
    {
     "data": {
      "text/plain": [
       "5"
      ]
     },
     "execution_count": 59,
     "metadata": {},
     "output_type": "execute_result"
    }
   ],
   "source": [
    "def missingNumber(myList, totalCount):\n",
    "  arithmeticSum = totalCount * (totalCount + 1) / 2\n",
    "  listSum = sum(myList)\n",
    "  return int(arithmeticSum - listSum)\n",
    "\n",
    "myList = [1,2,3,4,6]\n",
    "missingNumber(myList, 6)"
   ]
  },
  {
   "cell_type": "code",
   "execution_count": 58,
   "metadata": {},
   "outputs": [
    {
     "data": {
      "text/plain": [
       "5"
      ]
     },
     "execution_count": 58,
     "metadata": {},
     "output_type": "execute_result"
    }
   ],
   "source": [
    "# Teacher's Solution\n",
    "def missingNumber(myList, totalCount):\n",
    "  expectedSum = totalCount * ((totalCount + 1) / 2)\n",
    "  actualSum = 0\n",
    "  for i in myList:\n",
    "    actualSum += i\n",
    "  return int(expectedSum - actualSum)\n",
    "\n",
    "missingNumber(myList, 6)"
   ]
  },
  {
   "cell_type": "markdown",
   "metadata": {},
   "source": [
    "#### Duplicate Number\n",
    "- Write a function to find the duplicate number on given integer array/list."
   ]
  },
  {
   "cell_type": "code",
   "execution_count": 60,
   "metadata": {},
   "outputs": [],
   "source": [
    "# removeDuplicates([1, 1, 2, 2, 3, 4, 5])\n",
    "# Output: [1, 2, 3, 4, 5]"
   ]
  },
  {
   "cell_type": "code",
   "execution_count": 61,
   "metadata": {},
   "outputs": [
    {
     "data": {
      "text/plain": [
       "[1, 2, 3, 4, 5]"
      ]
     },
     "execution_count": 61,
     "metadata": {},
     "output_type": "execute_result"
    }
   ],
   "source": [
    "def removeDuplicates(myList):\n",
    "  outputList = []\n",
    "  for i in range(len(myList)):\n",
    "    if myList[i] not in outputList:\n",
    "      outputList.append(myList[i])\n",
    "  return outputList\n",
    "\n",
    "removeDuplicates([1, 1, 2, 2, 3, 4, 5])"
   ]
  },
  {
   "cell_type": "markdown",
   "metadata": {},
   "source": [
    "#### Pairs\n",
    "- Write a function to find all pairs of an integer array whose sum is equal to a given number."
   ]
  },
  {
   "cell_type": "code",
   "execution_count": null,
   "metadata": {},
   "outputs": [],
   "source": [
    "# pairSum([2, 4, 3, 5, 6, -2, 4, 7, 8, 9], 7)\n",
    "# Output: [\"2+5\", \"4+3\", \"3+4\", \"-2+9\"]"
   ]
  },
  {
   "cell_type": "code",
   "execution_count": 64,
   "metadata": {},
   "outputs": [
    {
     "data": {
      "text/plain": [
       "['2+5', '4+3', '3+4', '-2+9']"
      ]
     },
     "execution_count": 64,
     "metadata": {},
     "output_type": "execute_result"
    }
   ],
   "source": [
    "# Time complexity is O(N^2), might have to use algorithms in future to reduce this\n",
    "def pairSum(myList, sum):\n",
    "  outputList = []\n",
    "  for i in range(len(myList)):\n",
    "    for j in range(i+1, len(myList)):\n",
    "      if myList[i] + myList[j] == sum:\n",
    "        insertString = \"{}+{}\".format(myList[i], myList[j])\n",
    "        outputList.append(insertString)\n",
    "  return outputList\n",
    "\n",
    "pairSum([2, 4, 3, 5, 6, -2, 4, 7, 8, 9], 7)\n"
   ]
  }
 ],
 "metadata": {
  "kernelspec": {
   "display_name": "Python 3.10.4 64-bit",
   "language": "python",
   "name": "python3"
  },
  "language_info": {
   "codemirror_mode": {
    "name": "ipython",
    "version": 3
   },
   "file_extension": ".py",
   "mimetype": "text/x-python",
   "name": "python",
   "nbconvert_exporter": "python",
   "pygments_lexer": "ipython3",
   "version": "3.10.4"
  },
  "orig_nbformat": 4,
  "vscode": {
   "interpreter": {
    "hash": "1f77a9bf1b2b07eff0a94386bff0c99c292626568e08c9028e7f66dffdc5179c"
   }
  }
 },
 "nbformat": 4,
 "nbformat_minor": 2
}
