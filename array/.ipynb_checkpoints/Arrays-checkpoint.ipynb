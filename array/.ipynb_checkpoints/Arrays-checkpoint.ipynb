{
 "cells": [
  {
   "cell_type": "markdown",
   "id": "83f30f88",
   "metadata": {},
   "source": [
    "#### Creating an Array"
   ]
  },
  {
   "cell_type": "code",
   "execution_count": 34,
   "id": "d4be157b",
   "metadata": {},
   "outputs": [
    {
     "name": "stdout",
     "output_type": "stream",
     "text": [
      "array('i', [1, 2, 3, 4, 5, 6])\n",
      "array('d', [1.3, 1.5, 1.6])\n"
     ]
    }
   ],
   "source": [
    "from array import *\n",
    "arr1 = array(\"i\", [1,2,3,4,5,6])\n",
    "arr2 = array(\"d\", [1.3, 1.5, 1.6])\n",
    "\n",
    "print(arr1)\n",
    "print(arr2)"
   ]
  },
  {
   "cell_type": "markdown",
   "id": "065ed22e",
   "metadata": {},
   "source": [
    "#### Time Complexity (Inserting Elements in Array)\n",
    "- Insertion at beginning of the array: O(n)\n",
    "- Insertion at the end of the array: O(1)\n",
    "- Insertion at the middle of the array: O(n)\n",
    "- Insertion to full array: O(n)"
   ]
  },
  {
   "cell_type": "code",
   "execution_count": 35,
   "id": "1ebb322b",
   "metadata": {},
   "outputs": [
    {
     "name": "stdout",
     "output_type": "stream",
     "text": [
      "array('i', [1, 2, 9, 3, 4, 5, 6])\n"
     ]
    }
   ],
   "source": [
    "# Insert element to array\n",
    "\n",
    "arr1.insert(2, 9)\n",
    "\n",
    "print(arr1)"
   ]
  },
  {
   "cell_type": "markdown",
   "id": "bcaf97b1",
   "metadata": {},
   "source": [
    "#### Array Traversal\n",
    "- Time complexity: O(n)"
   ]
  },
  {
   "cell_type": "code",
   "execution_count": 36,
   "id": "704e2460",
   "metadata": {},
   "outputs": [
    {
     "name": "stdout",
     "output_type": "stream",
     "text": [
      "1\n",
      "2\n",
      "9\n",
      "3\n",
      "4\n",
      "5\n",
      "6\n"
     ]
    }
   ],
   "source": [
    "def traverseArray(array):\n",
    "    for i in array:\n",
    "        print(i)\n",
    "        \n",
    "traverseArray(arr1)"
   ]
  },
  {
   "cell_type": "markdown",
   "id": "70cb2393",
   "metadata": {},
   "source": [
    "#### Access array element\n",
    "- Time complexity: O(1)\n",
    "- Space complexity: O(1)"
   ]
  },
  {
   "cell_type": "code",
   "execution_count": 37,
   "id": "d8240bf9",
   "metadata": {},
   "outputs": [],
   "source": [
    "from array import *\n",
    "\n",
    "arr1 = array(\"i\", [1,2,3,4,5,6])"
   ]
  },
  {
   "cell_type": "code",
   "execution_count": 38,
   "id": "b025bf09",
   "metadata": {},
   "outputs": [
    {
     "name": "stdout",
     "output_type": "stream",
     "text": [
      "3\n"
     ]
    }
   ],
   "source": [
    "def accessElement(array, index):\n",
    "    if index >= len(array):\n",
    "        print(\"There is not any element in this index\")\n",
    "    else:\n",
    "        print(array[index])\n",
    "        \n",
    "accessElement(arr1, 2)"
   ]
  },
  {
   "cell_type": "markdown",
   "id": "d7403431",
   "metadata": {},
   "source": [
    "#### Searching for an element in an Array"
   ]
  },
  {
   "cell_type": "code",
   "execution_count": 39,
   "id": "84eb4056",
   "metadata": {},
   "outputs": [],
   "source": [
    "from array import *\n",
    "\n",
    "arr1 = array(\"i\", [1,2,3,4,5,6])"
   ]
  },
  {
   "cell_type": "code",
   "execution_count": 40,
   "id": "e21dfa25",
   "metadata": {},
   "outputs": [
    {
     "data": {
      "text/plain": [
       "2"
      ]
     },
     "execution_count": 40,
     "metadata": {},
     "output_type": "execute_result"
    }
   ],
   "source": [
    "# Time complexity O(n^2)\n",
    "def searchInArray(array, value):\n",
    "    for i in array:\n",
    "        if i == value:\n",
    "            return array.index(value)\n",
    "    return \"The element does not exist in this array\"\n",
    "\n",
    "searchInArray(arr1, 3)"
   ]
  },
  {
   "cell_type": "markdown",
   "id": "1bed1978",
   "metadata": {},
   "source": [
    "#### Deleting elements from an Array"
   ]
  },
  {
   "cell_type": "code",
   "execution_count": 41,
   "id": "87c2ff81",
   "metadata": {},
   "outputs": [],
   "source": [
    "from array import *\n",
    "\n",
    "arr1 = array(\"i\", [1,2,3,4,5,6])"
   ]
  },
  {
   "cell_type": "code",
   "execution_count": 42,
   "id": "9b9304f9",
   "metadata": {},
   "outputs": [
    {
     "name": "stdout",
     "output_type": "stream",
     "text": [
      "array('i', [2, 3, 4, 5, 6])\n"
     ]
    }
   ],
   "source": [
    "arr1.remove(1)\n",
    "\n",
    "print(arr1)"
   ]
  },
  {
   "cell_type": "code",
   "execution_count": 43,
   "id": "d88ed934",
   "metadata": {},
   "outputs": [],
   "source": [
    "from array import *"
   ]
  },
  {
   "cell_type": "markdown",
   "id": "1ff7ff40",
   "metadata": {},
   "source": [
    "Create an array and traverse"
   ]
  },
  {
   "cell_type": "code",
   "execution_count": 44,
   "id": "e0a4fc31",
   "metadata": {},
   "outputs": [
    {
     "name": "stdout",
     "output_type": "stream",
     "text": [
      "1\n",
      "2\n",
      "3\n",
      "4\n",
      "5\n"
     ]
    }
   ],
   "source": [
    "my_array = array(\"i\", [1,2,3,4,5])\n",
    "\n",
    "# Traverse\n",
    "for i in my_array:\n",
    "    print(i)"
   ]
  },
  {
   "cell_type": "markdown",
   "id": "01b9dd9c",
   "metadata": {},
   "source": [
    "Access individual elements through indexes"
   ]
  },
  {
   "cell_type": "code",
   "execution_count": 45,
   "id": "beb1ba99",
   "metadata": {},
   "outputs": [
    {
     "data": {
      "text/plain": [
       "1"
      ]
     },
     "execution_count": 45,
     "metadata": {},
     "output_type": "execute_result"
    }
   ],
   "source": [
    "my_array[0]"
   ]
  },
  {
   "cell_type": "markdown",
   "id": "d4a039ac",
   "metadata": {},
   "source": [
    "Append any value to the array using append() method"
   ]
  },
  {
   "cell_type": "code",
   "execution_count": 46,
   "id": "a1c511b5",
   "metadata": {},
   "outputs": [
    {
     "data": {
      "text/plain": [
       "array('i', [1, 2, 3, 4, 5, 6])"
      ]
     },
     "execution_count": 46,
     "metadata": {},
     "output_type": "execute_result"
    }
   ],
   "source": [
    "my_array.append(6)\n",
    "\n",
    "my_array"
   ]
  },
  {
   "cell_type": "markdown",
   "id": "16528172",
   "metadata": {},
   "source": [
    "Insert value in an array using insert() method"
   ]
  },
  {
   "cell_type": "code",
   "execution_count": 47,
   "id": "f2206b1d",
   "metadata": {},
   "outputs": [
    {
     "data": {
      "text/plain": [
       "array('i', [11, 1, 2, 3, 4, 5, 6])"
      ]
     },
     "execution_count": 47,
     "metadata": {},
     "output_type": "execute_result"
    }
   ],
   "source": [
    "# Time consuming process\n",
    "my_array.insert(0, 11)\n",
    "\n",
    "my_array"
   ]
  },
  {
   "cell_type": "markdown",
   "id": "98dcc359",
   "metadata": {},
   "source": [
    "Extend python array using extend() method"
   ]
  },
  {
   "cell_type": "code",
   "execution_count": 48,
   "id": "051cc3e3",
   "metadata": {},
   "outputs": [
    {
     "data": {
      "text/plain": [
       "array('i', [11, 1, 2, 3, 4, 5, 6, 10, 11, 12])"
      ]
     },
     "execution_count": 48,
     "metadata": {},
     "output_type": "execute_result"
    }
   ],
   "source": [
    "my_array1 = array(\"i\", [10,11,12])\n",
    "my_array.extend(my_array1)\n",
    "\n",
    "my_array"
   ]
  },
  {
   "cell_type": "markdown",
   "id": "6f7a899d",
   "metadata": {},
   "source": [
    "Add items from list into array using fromlist() method"
   ]
  },
  {
   "cell_type": "code",
   "execution_count": 49,
   "id": "59decfd8",
   "metadata": {},
   "outputs": [
    {
     "data": {
      "text/plain": [
       "array('i', [11, 1, 2, 3, 4, 5, 6, 10, 11, 12, 20, 21, 22])"
      ]
     },
     "execution_count": 49,
     "metadata": {},
     "output_type": "execute_result"
    }
   ],
   "source": [
    "tempList = [20,21,22]\n",
    "my_array.fromlist(tempList)\n",
    "\n",
    "my_array"
   ]
  },
  {
   "cell_type": "markdown",
   "id": "d2f7a2fe",
   "metadata": {},
   "source": [
    "Remove any array element using remove() method"
   ]
  },
  {
   "cell_type": "code",
   "execution_count": 50,
   "id": "7c0b77b9",
   "metadata": {},
   "outputs": [
    {
     "data": {
      "text/plain": [
       "array('i', [1, 2, 3, 4, 5, 6, 10, 11, 12, 20, 21, 22])"
      ]
     },
     "execution_count": 50,
     "metadata": {},
     "output_type": "execute_result"
    }
   ],
   "source": [
    "# removes first occurrence of \"11\" only (time consuming)\n",
    "# remove one element, then other elements move to the left\n",
    "my_array.remove(11)\n",
    "my_array"
   ]
  },
  {
   "cell_type": "markdown",
   "id": "19069b71",
   "metadata": {},
   "source": [
    "Remove last array element using pop() method"
   ]
  },
  {
   "cell_type": "code",
   "execution_count": 51,
   "id": "0ffa6792",
   "metadata": {},
   "outputs": [
    {
     "data": {
      "text/plain": [
       "22"
      ]
     },
     "execution_count": 51,
     "metadata": {},
     "output_type": "execute_result"
    }
   ],
   "source": [
    "# time efficient\n",
    "my_array.pop()"
   ]
  },
  {
   "cell_type": "code",
   "execution_count": 52,
   "id": "3b5166e1",
   "metadata": {},
   "outputs": [
    {
     "data": {
      "text/plain": [
       "array('i', [1, 2, 3, 4, 5, 6, 10, 11, 12, 20, 21])"
      ]
     },
     "execution_count": 52,
     "metadata": {},
     "output_type": "execute_result"
    }
   ],
   "source": [
    "my_array"
   ]
  },
  {
   "cell_type": "markdown",
   "id": "c7ad8bef",
   "metadata": {},
   "source": [
    "Fetch any element through its index using index() method"
   ]
  },
  {
   "cell_type": "code",
   "execution_count": 53,
   "id": "d5dea66e",
   "metadata": {},
   "outputs": [
    {
     "data": {
      "text/plain": [
       "9"
      ]
     },
     "execution_count": 53,
     "metadata": {},
     "output_type": "execute_result"
    }
   ],
   "source": [
    "my_array.index(20)"
   ]
  },
  {
   "cell_type": "markdown",
   "id": "f59f705b",
   "metadata": {},
   "source": [
    "Reverse a python array using reverse() method"
   ]
  },
  {
   "cell_type": "code",
   "execution_count": 54,
   "id": "0884c22a",
   "metadata": {},
   "outputs": [
    {
     "data": {
      "text/plain": [
       "array('i', [21, 20, 12, 11, 10, 6, 5, 4, 3, 2, 1])"
      ]
     },
     "execution_count": 54,
     "metadata": {},
     "output_type": "execute_result"
    }
   ],
   "source": [
    "my_array.reverse()\n",
    "my_array"
   ]
  },
  {
   "cell_type": "markdown",
   "id": "966dd25a",
   "metadata": {},
   "source": [
    "Get array buffer information through buffer_info() method"
   ]
  },
  {
   "cell_type": "code",
   "execution_count": 55,
   "id": "daf3a1bf",
   "metadata": {},
   "outputs": [
    {
     "data": {
      "text/plain": [
       "(1820728501744, 11)"
      ]
     },
     "execution_count": 55,
     "metadata": {},
     "output_type": "execute_result"
    }
   ],
   "source": [
    "# 11 elements\n",
    "my_array.buffer_info()"
   ]
  },
  {
   "cell_type": "markdown",
   "id": "a4c416e9",
   "metadata": {},
   "source": [
    "Check for number of occurrences of an element using count() method"
   ]
  },
  {
   "cell_type": "code",
   "execution_count": 57,
   "id": "03a69486",
   "metadata": {},
   "outputs": [
    {
     "data": {
      "text/plain": [
       "2"
      ]
     },
     "execution_count": 57,
     "metadata": {},
     "output_type": "execute_result"
    }
   ],
   "source": [
    "my_array.append(11)\n",
    "my_array.count(11)"
   ]
  },
  {
   "cell_type": "markdown",
   "id": "1f7e79a7",
   "metadata": {},
   "source": [
    "Convert array to a python list with same elements using tolist() method"
   ]
  },
  {
   "cell_type": "code",
   "execution_count": 59,
   "id": "156ff01a",
   "metadata": {},
   "outputs": [
    {
     "data": {
      "text/plain": [
       "[21, 20, 12, 11, 10, 6, 5, 4, 3, 2, 1, 11]"
      ]
     },
     "execution_count": 59,
     "metadata": {},
     "output_type": "execute_result"
    }
   ],
   "source": [
    "my_array.tolist()"
   ]
  },
  {
   "cell_type": "markdown",
   "id": "a4dbade2",
   "metadata": {},
   "source": [
    "Slice elements from an array"
   ]
  },
  {
   "cell_type": "code",
   "execution_count": 61,
   "id": "7ad9d2bd",
   "metadata": {},
   "outputs": [
    {
     "data": {
      "text/plain": [
       "array('i', [21, 20, 12])"
      ]
     },
     "execution_count": 61,
     "metadata": {},
     "output_type": "execute_result"
    }
   ],
   "source": [
    "my_array[0:3]"
   ]
  },
  {
   "cell_type": "code",
   "execution_count": null,
   "id": "2b628483",
   "metadata": {},
   "outputs": [],
   "source": []
  },
  {
   "cell_type": "code",
   "execution_count": null,
   "id": "39ce7782",
   "metadata": {},
   "outputs": [],
   "source": []
  },
  {
   "cell_type": "code",
   "execution_count": null,
   "id": "8080d3df",
   "metadata": {},
   "outputs": [],
   "source": []
  },
  {
   "cell_type": "code",
   "execution_count": null,
   "id": "52cbfe18",
   "metadata": {},
   "outputs": [],
   "source": []
  },
  {
   "cell_type": "code",
   "execution_count": null,
   "id": "01e12589",
   "metadata": {},
   "outputs": [],
   "source": []
  },
  {
   "cell_type": "code",
   "execution_count": null,
   "id": "d6ba199b",
   "metadata": {},
   "outputs": [],
   "source": []
  },
  {
   "cell_type": "code",
   "execution_count": null,
   "id": "f0b0d240",
   "metadata": {},
   "outputs": [],
   "source": []
  },
  {
   "cell_type": "code",
   "execution_count": null,
   "id": "82556d4e",
   "metadata": {},
   "outputs": [],
   "source": []
  },
  {
   "cell_type": "code",
   "execution_count": null,
   "id": "b7fb0eb5",
   "metadata": {},
   "outputs": [],
   "source": []
  },
  {
   "cell_type": "code",
   "execution_count": null,
   "id": "6e203008",
   "metadata": {},
   "outputs": [],
   "source": []
  },
  {
   "cell_type": "code",
   "execution_count": null,
   "id": "2fc8ceb2",
   "metadata": {},
   "outputs": [],
   "source": []
  },
  {
   "cell_type": "code",
   "execution_count": null,
   "id": "62ec3f6d",
   "metadata": {},
   "outputs": [],
   "source": []
  },
  {
   "cell_type": "code",
   "execution_count": null,
   "id": "f578b4d0",
   "metadata": {},
   "outputs": [],
   "source": []
  },
  {
   "cell_type": "code",
   "execution_count": null,
   "id": "022825bd",
   "metadata": {},
   "outputs": [],
   "source": []
  },
  {
   "cell_type": "code",
   "execution_count": null,
   "id": "3bccede1",
   "metadata": {},
   "outputs": [],
   "source": []
  },
  {
   "cell_type": "code",
   "execution_count": null,
   "id": "67b78cca",
   "metadata": {},
   "outputs": [],
   "source": []
  },
  {
   "cell_type": "code",
   "execution_count": null,
   "id": "9610d26a",
   "metadata": {},
   "outputs": [],
   "source": []
  },
  {
   "cell_type": "code",
   "execution_count": null,
   "id": "ab22b449",
   "metadata": {},
   "outputs": [],
   "source": []
  },
  {
   "cell_type": "code",
   "execution_count": null,
   "id": "4602d0be",
   "metadata": {},
   "outputs": [],
   "source": []
  },
  {
   "cell_type": "code",
   "execution_count": null,
   "id": "390c66a1",
   "metadata": {},
   "outputs": [],
   "source": []
  },
  {
   "cell_type": "code",
   "execution_count": null,
   "id": "e52328a8",
   "metadata": {},
   "outputs": [],
   "source": []
  },
  {
   "cell_type": "code",
   "execution_count": null,
   "id": "211a2a07",
   "metadata": {},
   "outputs": [],
   "source": []
  },
  {
   "cell_type": "code",
   "execution_count": null,
   "id": "c9c98a39",
   "metadata": {},
   "outputs": [],
   "source": []
  },
  {
   "cell_type": "code",
   "execution_count": null,
   "id": "bb3c23a6",
   "metadata": {},
   "outputs": [],
   "source": []
  },
  {
   "cell_type": "code",
   "execution_count": null,
   "id": "e60ffc0d",
   "metadata": {},
   "outputs": [],
   "source": []
  },
  {
   "cell_type": "code",
   "execution_count": null,
   "id": "8e6a6377",
   "metadata": {},
   "outputs": [],
   "source": []
  },
  {
   "cell_type": "code",
   "execution_count": null,
   "id": "c34ec783",
   "metadata": {},
   "outputs": [],
   "source": []
  },
  {
   "cell_type": "code",
   "execution_count": null,
   "id": "2f7d8629",
   "metadata": {},
   "outputs": [],
   "source": []
  },
  {
   "cell_type": "code",
   "execution_count": null,
   "id": "6d4ae9c0",
   "metadata": {},
   "outputs": [],
   "source": []
  },
  {
   "cell_type": "code",
   "execution_count": null,
   "id": "fedb1007",
   "metadata": {},
   "outputs": [],
   "source": []
  }
 ],
 "metadata": {
  "kernelspec": {
   "display_name": "Python 3 (ipykernel)",
   "language": "python",
   "name": "python3"
  },
  "language_info": {
   "codemirror_mode": {
    "name": "ipython",
    "version": 3
   },
   "file_extension": ".py",
   "mimetype": "text/x-python",
   "name": "python",
   "nbconvert_exporter": "python",
   "pygments_lexer": "ipython3",
   "version": "3.10.4"
  }
 },
 "nbformat": 4,
 "nbformat_minor": 5
}
