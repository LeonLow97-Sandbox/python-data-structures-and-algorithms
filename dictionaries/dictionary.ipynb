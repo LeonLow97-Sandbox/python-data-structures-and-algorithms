{
 "cells": [
  {
   "cell_type": "markdown",
   "metadata": {},
   "source": [
    "#### How to create a dictionary?\n",
    "- A dictionary is a collection which is unordered, changeable and indexed."
   ]
  },
  {
   "cell_type": "code",
   "execution_count": 1,
   "metadata": {},
   "outputs": [
    {
     "name": "stdout",
     "output_type": "stream",
     "text": [
      "{}\n"
     ]
    }
   ],
   "source": [
    "# Using dict() function\n",
    "myDict = dict()\n",
    "print(myDict)"
   ]
  },
  {
   "cell_type": "code",
   "execution_count": 2,
   "metadata": {},
   "outputs": [
    {
     "name": "stdout",
     "output_type": "stream",
     "text": [
      "{}\n"
     ]
    }
   ],
   "source": [
    "# Using {}\n",
    "secondDict = {}\n",
    "print(secondDict)"
   ]
  },
  {
   "cell_type": "code",
   "execution_count": 3,
   "metadata": {},
   "outputs": [
    {
     "name": "stdout",
     "output_type": "stream",
     "text": [
      "{'one': 'uno', 'two': 'dos', 'three': 'tres'}\n"
     ]
    }
   ],
   "source": [
    "# Creating dictionary\n",
    "engToSp = {\"one\":\"uno\", \"two\":\"dos\", \"three\":\"tres\"}\n",
    "print(engToSp)"
   ]
  },
  {
   "cell_type": "code",
   "execution_count": 4,
   "metadata": {},
   "outputs": [
    {
     "data": {
      "text/plain": [
       "'dos'"
      ]
     },
     "execution_count": 4,
     "metadata": {},
     "output_type": "execute_result"
    }
   ],
   "source": [
    "# Using Key to access Value (time complexity: O(1))\n",
    "engToSp[\"two\"]"
   ]
  },
  {
   "cell_type": "markdown",
   "metadata": {},
   "source": [
    "#### Update / Insert element to dictionary"
   ]
  },
  {
   "cell_type": "code",
   "execution_count": 5,
   "metadata": {},
   "outputs": [
    {
     "name": "stdout",
     "output_type": "stream",
     "text": [
      "{'name': 'Leon', 'age': 27}\n"
     ]
    }
   ],
   "source": [
    "myDict = {\"name\":\"Leon\", \"age\":25}\n",
    "\n",
    "# Update \"age\" (Time complexity: O(1), space complexity: O(1), straight away accesssing element)\n",
    "myDict[\"age\"] = 27\n",
    "print(myDict)"
   ]
  },
  {
   "cell_type": "code",
   "execution_count": 6,
   "metadata": {},
   "outputs": [
    {
     "name": "stdout",
     "output_type": "stream",
     "text": [
      "{'name': 'Leon', 'age': 27, 'job': 'Software Engineer'}\n"
     ]
    }
   ],
   "source": [
    "# Insert element to dictionary (Time Complexity: O(1), space complexity: amortized O(1))\n",
    "myDict[\"job\"] = \"Software Engineer\"\n",
    "print(myDict)"
   ]
  },
  {
   "cell_type": "markdown",
   "metadata": {},
   "source": [
    "#### Traversing through a dictionary"
   ]
  },
  {
   "cell_type": "code",
   "execution_count": 9,
   "metadata": {},
   "outputs": [
    {
     "name": "stdout",
     "output_type": "stream",
     "text": [
      "name Leon\n",
      "age 27\n",
      "job Software Engineer\n"
     ]
    }
   ],
   "source": [
    "myDict = {'name': 'Leon', 'age': 27, 'job': 'Software Engineer'}\n",
    "\n",
    "# Time Complexity: O(n), Space Complexity: O(1)\n",
    "def traverseDict(dict):\n",
    "  for key in dict:\n",
    "    print(key, dict[key])\n",
    "\n",
    "traverseDict(myDict)"
   ]
  },
  {
   "cell_type": "markdown",
   "metadata": {},
   "source": [
    "#### Searching for an element in Dictionary"
   ]
  },
  {
   "cell_type": "code",
   "execution_count": 15,
   "metadata": {},
   "outputs": [
    {
     "data": {
      "text/plain": [
       "('age', 27)"
      ]
     },
     "execution_count": 15,
     "metadata": {},
     "output_type": "execute_result"
    }
   ],
   "source": [
    "myDict = {'name': 'Leon', \"age\": 27, 'job': 'Software Engineer'}\n",
    "\n",
    "# Linear Search (Time complexity: O(n), space complexity: O(1))\n",
    "def searchDict(dict, value):\n",
    "  for key in dict:\n",
    "    if dict[key] == value:\n",
    "      return key, value\n",
    "  return \"The value does not exist.\"\n",
    "\n",
    "searchDict(myDict, 27)"
   ]
  },
  {
   "cell_type": "markdown",
   "metadata": {},
   "source": [
    "#### Delete an element from a dictionary\n",
    "- Time Complexity: O(1)\n",
    "- Time complexity: Amortized O(n), worst case\n",
    "- Space complexity: O(1)"
   ]
  },
  {
   "cell_type": "code",
   "execution_count": 17,
   "metadata": {},
   "outputs": [
    {
     "data": {
      "text/plain": [
       "'Leon'"
      ]
     },
     "execution_count": 17,
     "metadata": {},
     "output_type": "execute_result"
    }
   ],
   "source": [
    "myDict = {'name': 'Leon', \"age\": 27, 'job': 'Software Engineer'}\n",
    "\n",
    "# Using pop() method\n",
    "myDict.pop(\"name\")"
   ]
  },
  {
   "cell_type": "code",
   "execution_count": 18,
   "metadata": {},
   "outputs": [
    {
     "name": "stdout",
     "output_type": "stream",
     "text": [
      "{'age': 27, 'job': 'Software Engineer'}\n"
     ]
    }
   ],
   "source": [
    "print(myDict)"
   ]
  },
  {
   "cell_type": "code",
   "execution_count": 28,
   "metadata": {},
   "outputs": [
    {
     "data": {
      "text/plain": [
       "('job', 'Software Engineer')"
      ]
     },
     "execution_count": 28,
     "metadata": {},
     "output_type": "execute_result"
    }
   ],
   "source": [
    "myDict = {'name': 'Leon', \"age\": 27, 'job': 'Software Engineer'}\n",
    "\n",
    "# Using popitem(): returns key and value, but it deletes last item in dictionary\n",
    "myDict.popitem()\n"
   ]
  },
  {
   "cell_type": "code",
   "execution_count": 29,
   "metadata": {},
   "outputs": [
    {
     "name": "stdout",
     "output_type": "stream",
     "text": [
      "{}\n"
     ]
    }
   ],
   "source": [
    "myDict = {'name': 'Leon', \"age\": 27, 'job': 'Software Engineer'}\n",
    "\n",
    "# clear() method\n",
    "myDict.clear()\n",
    "\n",
    "print(myDict)"
   ]
  },
  {
   "cell_type": "code",
   "execution_count": 30,
   "metadata": {},
   "outputs": [
    {
     "name": "stdout",
     "output_type": "stream",
     "text": [
      "{'name': 'Leon', 'job': 'Software Engineer'}\n"
     ]
    }
   ],
   "source": [
    "myDict = {'name': 'Leon', \"age\": 27, 'job': 'Software Engineer'}\n",
    "\n",
    "# del keyword\n",
    "del myDict[\"age\"]\n",
    "\n",
    "print(myDict)"
   ]
  },
  {
   "cell_type": "code",
   "execution_count": 31,
   "metadata": {},
   "outputs": [],
   "source": [
    "# delete entire dictionary\n",
    "del myDict"
   ]
  },
  {
   "cell_type": "markdown",
   "metadata": {},
   "source": [
    "#### Dictionary Methods"
   ]
  },
  {
   "cell_type": "code",
   "execution_count": 32,
   "metadata": {},
   "outputs": [
    {
     "name": "stdout",
     "output_type": "stream",
     "text": [
      "{}\n"
     ]
    }
   ],
   "source": [
    "myDict = {'name': 'Leon', \"age\": 27, 'job': 'Software Engineer', \"school\": \"NUS\"}\n",
    "\n",
    "# clear() method\n",
    "myDict.clear()\n",
    "print(myDict)"
   ]
  },
  {
   "cell_type": "code",
   "execution_count": 35,
   "metadata": {},
   "outputs": [
    {
     "name": "stdout",
     "output_type": "stream",
     "text": [
      "{'name': 'Leon', 'age': 27, 'job': 'Software Engineer', 'school': 'NUS'}\n",
      "{'name': 'Leon', 'age': 27, 'job': 'Software Engineer', 'school': 'NUS'}\n"
     ]
    }
   ],
   "source": [
    "myDict = {'name': 'Leon', \"age\": 27, 'job': 'Software Engineer', \"school\": \"NUS\"}\n",
    "\n",
    "# copy() method (does not modify original dictionary)\n",
    "copiedDict = myDict.copy()\n",
    "print(myDict)\n",
    "print(copiedDict)"
   ]
  },
  {
   "cell_type": "code",
   "execution_count": 39,
   "metadata": {},
   "outputs": [
    {
     "name": "stdout",
     "output_type": "stream",
     "text": [
      "{1: 0, 2: 0, 3: 0, 'jiewei': 0}\n"
     ]
    }
   ],
   "source": [
    "myDict = {'name': 'Leon', \"age\": 27, 'job': 'Software Engineer', \"school\": \"NUS\"}\n",
    "\n",
    "# fromkeys() method\n",
    "# Syntax: dictionary.fromkeys(sequence[], value)\n",
    "newDict = {}.fromkeys([1,2,3, \"jiewei\"], 0)\n",
    "print(newDict)"
   ]
  },
  {
   "cell_type": "code",
   "execution_count": 43,
   "metadata": {},
   "outputs": [
    {
     "name": "stdout",
     "output_type": "stream",
     "text": [
      "27\n",
      "27\n",
      "None\n"
     ]
    }
   ],
   "source": [
    "myDict = {'name': 'Leon', \"age\": 27, 'job': 'Software Engineer', \"school\": \"NUS\"}\n",
    "\n",
    "# get() method\n",
    "# Syntax: dictionary.get(key, value), returns value.\n",
    "print(myDict.get(\"age\", 27))\n",
    "\n",
    "# if key does not exist, it retuns value\n",
    "print(myDict.get(\"city\", 27))\n",
    "\n",
    "print(myDict.get(\"city\"))"
   ]
  },
  {
   "cell_type": "code",
   "execution_count": 44,
   "metadata": {},
   "outputs": [
    {
     "name": "stdout",
     "output_type": "stream",
     "text": [
      "dict_items([('name', 'Leon'), ('age', 27), ('job', 'Software Engineer'), ('school', 'NUS')])\n"
     ]
    }
   ],
   "source": [
    "myDict = {'name': 'Leon', \"age\": 27, 'job': 'Software Engineer', \"school\": \"NUS\"}\n",
    "\n",
    "# items() method: returns list of dictionary in tuple pairs\n",
    "# Syntax: dictionary.items(), takes no parameters\n",
    "print(myDict.items())"
   ]
  },
  {
   "cell_type": "code",
   "execution_count": 45,
   "metadata": {},
   "outputs": [
    {
     "name": "stdout",
     "output_type": "stream",
     "text": [
      "dict_keys(['name', 'age', 'job', 'school'])\n"
     ]
    }
   ],
   "source": [
    "myDict = {'name': 'Leon', \"age\": 27, 'job': 'Software Engineer', \"school\": \"NUS\"}\n",
    "\n",
    "# keys() method: displays list of all keys in the dictionary\n",
    "# Syntax: dictionary.keys(), takes no parameters\n",
    "\n",
    "print(myDict.keys())"
   ]
  },
  {
   "cell_type": "code",
   "execution_count": 47,
   "metadata": {},
   "outputs": [
    {
     "name": "stdout",
     "output_type": "stream",
     "text": [
      "('school', 'NUS')\n",
      "{'name': 'Leon', 'age': 27, 'job': 'Software Engineer'}\n"
     ]
    }
   ],
   "source": [
    "myDict = {'name': 'Leon', \"age\": 27, 'job': 'Software Engineer', \"school\": \"NUS\"}\n",
    "\n",
    "# popitem(): removes last element from dictionary\n",
    "# Syntax: dictionary.popitem()\n",
    "print(myDict.popitem())\n",
    "print(myDict)"
   ]
  },
  {
   "cell_type": "code",
   "execution_count": 50,
   "metadata": {},
   "outputs": [
    {
     "name": "stdout",
     "output_type": "stream",
     "text": [
      "added\n",
      "{'name': 'Leon', 'age': 27, 'job': 'Software Engineer', 'school': 'NUS', 'name1': 'added'}\n"
     ]
    }
   ],
   "source": [
    "myDict = {'name': 'Leon', \"age\": 27, 'job': 'Software Engineer', \"school\": \"NUS\"}\n",
    "\n",
    "# setdefault() returns value of key if key is in dictionary. if not, it inserts the key\n",
    "# Syntax: dictionary.setdefault(key, default_value(optional))\n",
    "print(myDict.setdefault(\"name1\", \"added\"))\n",
    "print(myDict)"
   ]
  },
  {
   "cell_type": "code",
   "execution_count": 51,
   "metadata": {},
   "outputs": [
    {
     "name": "stdout",
     "output_type": "stream",
     "text": [
      "not\n"
     ]
    }
   ],
   "source": [
    "myDict = {'name': 'Leon', \"age\": 27, 'job': 'Software Engineer', \"school\": \"NUS\"}\n",
    "\n",
    "# pop() method\n",
    "# Syntax: dictionary.pop(key, default_value)\n",
    "print(myDict.pop(\"name1\", \"not\"))"
   ]
  },
  {
   "cell_type": "code",
   "execution_count": 52,
   "metadata": {},
   "outputs": [
    {
     "name": "stdout",
     "output_type": "stream",
     "text": [
      "dict_values(['Leon', 27, 'Software Engineer', 'NUS'])\n"
     ]
    }
   ],
   "source": [
    "myDict = {'name': 'Leon', \"age\": 27, 'job': 'Software Engineer', \"school\": \"NUS\"}\n",
    "\n",
    "# values(): displays list of values in a dictionary\n",
    "# Syntax: dictionary.values(), does not take parameters\n",
    "print(myDict.values())"
   ]
  },
  {
   "cell_type": "code",
   "execution_count": 54,
   "metadata": {},
   "outputs": [
    {
     "name": "stdout",
     "output_type": "stream",
     "text": [
      "{'name': 'Leon', 'age': 27, 'job': 'Software Engineer', 'school': 'NUS', 'a': 1, 'b': 2, 'c': 3}\n"
     ]
    }
   ],
   "source": [
    "myDict = {'name': 'Leon', \"age\": 27, 'job': 'Software Engineer', \"school\": \"NUS\"}\n",
    "\n",
    "# update() method: updates dictionary with the elements from another dictionary. or from iterable of key-value pairs.\n",
    "# Syntax: dictionary.update(other_dictionary)\n",
    "newDict = {\"a\":1, \"b\":2, \"c\":3}\n",
    "myDict.update(newDict)\n",
    "\n",
    "print(myDict)"
   ]
  },
  {
   "cell_type": "markdown",
   "metadata": {},
   "source": [
    "#### Dictionary Operations and Built-In Functions\n",
    "- Uses hash tables\n",
    "- Time complexity for \"in\" operator in dictionary is O(1), regardless of size of dictionary because the key of the dictionary is a unique value. (UNLIKE lists, time complexity is O(n))"
   ]
  },
  {
   "cell_type": "code",
   "execution_count": 56,
   "metadata": {},
   "outputs": [
    {
     "name": "stdout",
     "output_type": "stream",
     "text": [
      "True\n"
     ]
    }
   ],
   "source": [
    "myDict = {\"one\":'uno', \"two\":\"dos\",\"three\":\"tres\", \"four\":\"cuarto\"}\n",
    "\n",
    "print(\"one\" in myDict)"
   ]
  },
  {
   "cell_type": "code",
   "execution_count": 57,
   "metadata": {},
   "outputs": [
    {
     "name": "stdout",
     "output_type": "stream",
     "text": [
      "True\n"
     ]
    }
   ],
   "source": [
    "# Checking for existence of a dictionary value (use .values())\n",
    "print(\"uno\" in myDict.values())"
   ]
  },
  {
   "cell_type": "code",
   "execution_count": 62,
   "metadata": {},
   "outputs": [
    {
     "name": "stdout",
     "output_type": "stream",
     "text": [
      "one : uno\n",
      "two : dos\n",
      "three : tres\n",
      "four : cuarto\n"
     ]
    }
   ],
   "source": [
    "myDict = {\"one\":'uno', \"two\":\"dos\",\"three\":\"tres\", \"four\":\"cuarto\"}\n",
    "\n",
    "# \"for\" (Time complexity: O(n))\n",
    "for key in myDict:\n",
    "  print(key,\":\" ,myDict[key])\n"
   ]
  },
  {
   "cell_type": "code",
   "execution_count": 78,
   "metadata": {},
   "outputs": [
    {
     "name": "stdout",
     "output_type": "stream",
     "text": [
      "True\n",
      "False\n",
      "True\n"
     ]
    }
   ],
   "source": [
    "myDict = {True: 1, True: 2}\n",
    "myDict2 = {False: 1, True: 2}\n",
    "myDict3 = {}\n",
    "\n",
    "# all() method: returns True if all elements in given iterable are True\n",
    "# For dictionaries, the all() function checks the keys, not the values\n",
    "# Syntax: all(dictionary)\n",
    "print(all(myDict))\n",
    "print(all(myDict2))\n",
    "print(all(myDict3))"
   ]
  },
  {
   "cell_type": "code",
   "execution_count": 85,
   "metadata": {},
   "outputs": [
    {
     "name": "stdout",
     "output_type": "stream",
     "text": [
      "True\n",
      "True\n",
      "False\n"
     ]
    }
   ],
   "source": [
    "myDict = {True: 1, True: 2}\n",
    "myDict2 = {True: 1, False: 2}\n",
    "myDict3 = {}\n",
    "\n",
    "# any() method: returns True if any element in collection is True, otherwise False.\n",
    "# Syntax: any(dictionary)\n",
    "print(any(myDict))\n",
    "print(any(myDict2))\n",
    "print(any(myDict3))\n"
   ]
  },
  {
   "cell_type": "code",
   "execution_count": 86,
   "metadata": {},
   "outputs": [
    {
     "name": "stdout",
     "output_type": "stream",
     "text": [
      "4\n"
     ]
    }
   ],
   "source": [
    "myDict = {\"one\":'uno', \"two\":\"dos\",\"three\":\"tres\", \"four\":\"cuarto\"}\n",
    "\n",
    "# len()\n",
    "# Syntax: len(dictionary): returns number of pairs\n",
    "print(len(myDict))"
   ]
  },
  {
   "cell_type": "code",
   "execution_count": 96,
   "metadata": {},
   "outputs": [
    {
     "name": "stdout",
     "output_type": "stream",
     "text": [
      "['u', 'o', 'i', 'e', 'a']\n",
      "['ea', 'asa', 'ods', 'usad', 'iasdfa']\n"
     ]
    }
   ],
   "source": [
    "myDict = {\"e\":1, \"a\":2, \"u\":3, \"o\":4, \"i\":5}\n",
    "myDict2 = {\"ea\":1, \"asa\":2, \"usad\":3, \"ods\":4, \"iasdfa\":5}\n",
    "\n",
    "# sorted(): returns a sorted list from given iterable\n",
    "# Syntax: sorted(iterable, reverse, key)\n",
    "print(sorted(myDict, reverse = True, ))\n",
    "\n",
    "print(sorted(myDict2, key=len))"
   ]
  }
 ],
 "metadata": {
  "kernelspec": {
   "display_name": "Python 3.10.4 64-bit",
   "language": "python",
   "name": "python3"
  },
  "language_info": {
   "codemirror_mode": {
    "name": "ipython",
    "version": 3
   },
   "file_extension": ".py",
   "mimetype": "text/x-python",
   "name": "python",
   "nbconvert_exporter": "python",
   "pygments_lexer": "ipython3",
   "version": "3.10.4"
  },
  "orig_nbformat": 4,
  "vscode": {
   "interpreter": {
    "hash": "1f77a9bf1b2b07eff0a94386bff0c99c292626568e08c9028e7f66dffdc5179c"
   }
  }
 },
 "nbformat": 4,
 "nbformat_minor": 2
}
