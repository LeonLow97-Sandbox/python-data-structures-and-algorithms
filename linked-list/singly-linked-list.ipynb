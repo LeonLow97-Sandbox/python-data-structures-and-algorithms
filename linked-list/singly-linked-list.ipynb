{
 "cells": [
  {
   "cell_type": "markdown",
   "metadata": {},
   "source": [
    "#### Singly Linked List\n",
    "- Time Complexity: O(1)\n",
    "- Space Complexity: O(1)\n",
    "##### Steps:\n",
    "1. Create Node\n",
    "2. New Node Reference = head\n",
    "3. Point head to new node"
   ]
  },
  {
   "cell_type": "code",
   "execution_count": 1,
   "metadata": {},
   "outputs": [],
   "source": [
    "class Node:\n",
    "  def __init__(self, data=None):\n",
    "    self.data = data   # Assign initial data\n",
    "    self.next = None    # Initialize ref as null (reference)\n",
    "\n",
    "class SLinkedList:\n",
    "  def __init__(self):   # initialize head and tail\n",
    "    self.head = None    # O(1) time complexity\n",
    "    self.tail = None    # None means empty linked list (initially, there are no nodes.)\n",
    "\n",
    "singlyLinkedList = SLinkedList()\n",
    "node1 = Node(1)\n",
    "node2 = Node(2)\n",
    "\n",
    "singlyLinkedList.head = node1\n",
    "singlyLinkedList.head.next = node2  # Linking first node with second node\n",
    "singlyLinkedList.tail = node2"
   ]
  },
  {
   "cell_type": "markdown",
   "metadata": {},
   "source": [
    "#### Insertion of Singly Linked List\n",
    "- Time Complexity: O(n) because of while loop\n",
    "- Space Complexity: O(1)"
   ]
  },
  {
   "cell_type": "code",
   "execution_count": 44,
   "metadata": {},
   "outputs": [
    {
     "name": "stdout",
     "output_type": "stream",
     "text": [
      "[0, 1, 2, 56, 3, 4]\n",
      "0\n",
      "1\n",
      "2\n",
      "56\n",
      "3\n",
      "4\n",
      "3\n",
      "The value does not exist in this list.\n"
     ]
    }
   ],
   "source": [
    "class Node:\n",
    "  def __init__(self, value=None):\n",
    "    self.value = value\n",
    "    self.next = None\n",
    "\n",
    "class SLinkedList:\n",
    "  def __init__(self):\n",
    "    self.head = None\n",
    "    self.tail = None\n",
    "  # to print out the singly linked list\n",
    "  def __iter__(self):\n",
    "    node = self.head\n",
    "    while node:\n",
    "      yield node\n",
    "      node = node.next\n",
    "  # Insert in Linked List\n",
    "  def insertSLL(self, value, location):\n",
    "    newNode = Node(value) # creating new node and initializing it with value\n",
    "    if self.head is None:\n",
    "      self.head = newNode\n",
    "      self.tail = newNode\n",
    "    else:\n",
    "      # insert element in beginning of linked list.\n",
    "      if location == 0:\n",
    "        newNode.next = self.head   # because head stores previous first node's physical location\n",
    "        self.head = newNode        # update head with new node's physical location\n",
    "      # insert element at end of linked list\n",
    "      elif location == -1:\n",
    "        newNode.next = None\n",
    "        self.tail.next = newNode   # to access the last node\n",
    "        self.tail = newNode\n",
    "      # insert element at middle of linked list\n",
    "      else:\n",
    "        tempNode = self.head       # start from head to traverse\n",
    "        index = 0\n",
    "        while index < location - 1:\n",
    "          tempNode = tempNode.next\n",
    "          index += 1\n",
    "        nextNode = tempNode.next   # tempNode is current node, nextNode is after newNode.\n",
    "        tempNode.next = newNode\n",
    "        newNode.next = nextNode\n",
    "        if tempNode == self.tail:\n",
    "          self.tail = newNode\n",
    "    # Traverse Singly Linked List\n",
    "  def traverseSLL(self):\n",
    "    if self.head is None:\n",
    "      print(\"The Singly Linked List does not exist.\")\n",
    "    else:\n",
    "      node = self.head\n",
    "      while node is not None:\n",
    "        print(node.value)\n",
    "        node = node.next # to go to next element\n",
    "  \n",
    "  # Search for a node in Singly Linked List\n",
    "  def searchSLL(self, nodeValue):\n",
    "    if self.head is None:\n",
    "      return \"The Linked List does not exist.\"\n",
    "    else:\n",
    "      node = self.head   ## head exist so assign it to a value\n",
    "      while node is not None: ## node hasnt ended and has a reference\n",
    "        if node.value == nodeValue:  # searched success\n",
    "          return node.value\n",
    "        node = node.next   ## assign current node to the next node reference\n",
    "      return \"The value does not exist in this list.\"\n",
    "\n",
    "  # Delete a node from Singly Linked List\n",
    "  def deleteNode(self, location):\n",
    "    if self.head is None:\n",
    "      print(\"The SLL does not exist.\")\n",
    "    else:\n",
    "      # delete first node\n",
    "      if location == 0:\n",
    "        if self.head == self.tail: # only one node in SLL\n",
    "          self.head = None\n",
    "          self.tail = None\n",
    "        else:\n",
    "          self.head = self.head.next\n",
    "      # delete last node\n",
    "      elif location == -1:\n",
    "        if self.head == self.tail:\n",
    "          self.head = None\n",
    "          self.tail = None\n",
    "        else:\n",
    "          node = self.head\n",
    "          while node is not None:\n",
    "            if node.next == self.tail:\n",
    "              break\n",
    "            node = node.next\n",
    "          node.next = None\n",
    "          self.tail = node # change reference of tail node\n",
    "      else:\n",
    "        tempNode = self.head\n",
    "        index = 0\n",
    "        while index < location - 1: # \"minus 1\" because we traverse to the node before the node we want to delete\n",
    "          tempNode = tempNode.next\n",
    "          index += 1\n",
    "        nextNode = tempNode.next\n",
    "        tempNode.next = nextNode.next\n",
    "  # Delete entire SLL\n",
    "  def deleteEntireSLL(self):\n",
    "    if self.head is None:\n",
    "      print(\"The SLL does not exist.\")\n",
    "    else:\n",
    "      self.head = None\n",
    "      self.tail = None\n",
    "\n",
    "singlyLinkedList = SLinkedList()\n",
    "singlyLinkedList.insertSLL(1, -1)\n",
    "singlyLinkedList.insertSLL(2, -1)\n",
    "singlyLinkedList.insertSLL(3, -1)\n",
    "singlyLinkedList.insertSLL(4, -1)\n",
    "\n",
    "singlyLinkedList.insertSLL(0, 0) # insert at the beginning\n",
    "\n",
    "singlyLinkedList.insertSLL(56, 3) # insert at the middle\n",
    "\n",
    "print([node.value for node in singlyLinkedList])\n",
    "\n",
    "# Calling traversal function\n",
    "singlyLinkedList.traverseSLL()\n",
    "\n",
    "print(singlyLinkedList.searchSLL(3))\n",
    "print(singlyLinkedList.searchSLL(10))"
   ]
  },
  {
   "cell_type": "code",
   "execution_count": 42,
   "metadata": {},
   "outputs": [
    {
     "name": "stdout",
     "output_type": "stream",
     "text": [
      "[0, 1, 4, 3, 0, 2]\n",
      "[1, 4, 3, 0, 2]\n",
      "[1, 4, 3, 0]\n",
      "[1, 4, 0]\n"
     ]
    }
   ],
   "source": [
    "# Deletion in Singly Linked List\n",
    "singlyLinkedList = SLinkedList()\n",
    "singlyLinkedList.insertSLL(1,1)\n",
    "singlyLinkedList.insertSLL(2,1)\n",
    "singlyLinkedList.insertSLL(3,1)\n",
    "singlyLinkedList.insertSLL(4,1)\n",
    "singlyLinkedList.insertSLL(0,0)\n",
    "singlyLinkedList.insertSLL(0,4)\n",
    "\n",
    "print([node.value for node in singlyLinkedList])\n",
    "singlyLinkedList.deleteNode(0)\n",
    "print([node.value for node in singlyLinkedList])\n",
    "singlyLinkedList.deleteNode(-1)\n",
    "print([node.value for node in singlyLinkedList])\n",
    "singlyLinkedList.deleteNode(2)\n",
    "print([node.value for node in singlyLinkedList])\n"
   ]
  },
  {
   "cell_type": "code",
   "execution_count": 45,
   "metadata": {},
   "outputs": [
    {
     "name": "stdout",
     "output_type": "stream",
     "text": [
      "[0, 1, 4, 3, 0, 2]\n",
      "[]\n"
     ]
    }
   ],
   "source": [
    "# Delete entire SLL\n",
    "singlyLinkedList = SLinkedList()\n",
    "singlyLinkedList.insertSLL(1,1)\n",
    "singlyLinkedList.insertSLL(2,1)\n",
    "singlyLinkedList.insertSLL(3,1)\n",
    "singlyLinkedList.insertSLL(4,1)\n",
    "singlyLinkedList.insertSLL(0,0)\n",
    "singlyLinkedList.insertSLL(0,4)\n",
    "\n",
    "print([node.value for node in singlyLinkedList])\n",
    "singlyLinkedList.deleteEntireSLL()\n",
    "print([node.value for node in singlyLinkedList])"
   ]
  },
  {
   "cell_type": "markdown",
   "metadata": {},
   "source": [
    "#### Traversal Function for SinglyLinkedList\n",
    "- Time Complexity: O(n) because of the while loop\n",
    "- Space Complexity: O(1) because we are only creating 1 temporary node."
   ]
  },
  {
   "cell_type": "markdown",
   "metadata": {},
   "source": [
    "#### Search value in SinglyLinkedList\n",
    "- Time Complexity: O(n)\n",
    "- Space Complexity: O(1)"
   ]
  },
  {
   "cell_type": "markdown",
   "metadata": {},
   "source": [
    "#### Delete a node from Singly Linked List\n",
    "- Time Complexity: O(n)\n",
    "- Space Complexity: O(1)"
   ]
  },
  {
   "cell_type": "markdown",
   "metadata": {},
   "source": [
    "#### Delete Entire SLL\n",
    "- Time Complexity: O(1) \n",
    "- Space Complexity: O(1)"
   ]
  },
  {
   "cell_type": "markdown",
   "metadata": {},
   "source": [
    "# How to Create a Linked List"
   ]
  },
  {
   "cell_type": "code",
   "execution_count": 19,
   "metadata": {},
   "outputs": [],
   "source": [
    "# Create a class to represent your linked list\n",
    "# The only information you need to store for a linked list is where the list starts (the head)\n",
    "class LinkedList:\n",
    "  def __init__(self):\n",
    "    self.head = None\n",
    "\n",
    "  def __repr__(self):\n",
    "    node = self.head\n",
    "    nodes = []\n",
    "    while node is not None:\n",
    "      nodes.append(node.data)\n",
    "      node = node.next\n",
    "    nodes.append(\"None\")\n",
    "    return \" -> \".join(nodes)\n",
    "  \n",
    "  # Traverse a Linked List\n",
    "  # Traversing means going through every single node, starting with the `head` of the Linked List\n",
    "  # and ending on the node that has a `next` value of `None`\n",
    "  def __iter__(self):\n",
    "    node = self.head\n",
    "    while node is not None:\n",
    "      yield node\n",
    "      node = node.next # move to the next node on the list\n",
    "\n",
    "  # Inserting at the Beginning\n",
    "  def add_first(self, node):\n",
    "    node.next = self.head  # new node points to the old self.head\n",
    "    self.head = node  # new head of the list is the inserted node.\n",
    "\n",
    "  # Inserting at the End\n",
    "  # Must traverse the whole linked list and add the new node when you reach the end\n",
    "  # Can't just append to the end as you would with a normal list because don't know which node is last in linked list\n",
    "  def add_last(self, node):\n",
    "    if self.head is None:\n",
    "      self.head = node\n",
    "      return\n",
    "    for current_node in self:\n",
    "      pass\n",
    "    current_node.next = node\n",
    "\n",
    "# Create another class to represent each node of the linked list.\n",
    "class Node:\n",
    "  def __init__(self, data):\n",
    "    self.data = data\n",
    "    self.next = None\n",
    "  \n",
    "  # add a __repr__ for better representation\n",
    "  def __repr__(self):\n",
    "    return self.data\n",
    "\n"
   ]
  },
  {
   "cell_type": "code",
   "execution_count": 20,
   "metadata": {},
   "outputs": [
    {
     "name": "stdout",
     "output_type": "stream",
     "text": [
      "None\n",
      "a -> None\n",
      "a -> b -> c -> None\n"
     ]
    }
   ],
   "source": [
    "# Create a linked list with 3 nodes\n",
    "llist = LinkedList()\n",
    "print(llist)\n",
    "\n",
    "firstNode = Node(\"a\") # creating a node for 'Head'\n",
    "llist.head = firstNode\n",
    "print(llist)\n",
    "\n",
    "secondNode = Node(\"b\")\n",
    "thirdNode = Node(\"c\")\n",
    "firstNode.next = secondNode\n",
    "secondNode.next = thirdNode\n",
    "print(llist)\n"
   ]
  },
  {
   "cell_type": "code",
   "execution_count": 24,
   "metadata": {},
   "outputs": [
    {
     "name": "stdout",
     "output_type": "stream",
     "text": [
      "None\n",
      "b -> None\n",
      "a -> b -> None\n"
     ]
    }
   ],
   "source": [
    "# Inserting at the beginning of Linked List\n",
    "llist = LinkedList()\n",
    "print(llist)\n",
    "\n",
    "llist.add_first(Node(\"b\"))\n",
    "print(llist)\n",
    "\n",
    "llist.add_first(Node(\"a\"))\n",
    "print(llist)"
   ]
  },
  {
   "cell_type": "code",
   "execution_count": null,
   "metadata": {},
   "outputs": [],
   "source": []
  },
  {
   "cell_type": "code",
   "execution_count": null,
   "metadata": {},
   "outputs": [],
   "source": []
  },
  {
   "cell_type": "code",
   "execution_count": null,
   "metadata": {},
   "outputs": [],
   "source": []
  },
  {
   "cell_type": "code",
   "execution_count": null,
   "metadata": {},
   "outputs": [],
   "source": []
  },
  {
   "cell_type": "code",
   "execution_count": null,
   "metadata": {},
   "outputs": [],
   "source": []
  },
  {
   "cell_type": "code",
   "execution_count": null,
   "metadata": {},
   "outputs": [],
   "source": []
  },
  {
   "cell_type": "code",
   "execution_count": null,
   "metadata": {},
   "outputs": [],
   "source": []
  },
  {
   "cell_type": "code",
   "execution_count": null,
   "metadata": {},
   "outputs": [],
   "source": []
  },
  {
   "cell_type": "code",
   "execution_count": null,
   "metadata": {},
   "outputs": [],
   "source": []
  },
  {
   "cell_type": "code",
   "execution_count": null,
   "metadata": {},
   "outputs": [],
   "source": []
  },
  {
   "cell_type": "code",
   "execution_count": null,
   "metadata": {},
   "outputs": [],
   "source": []
  },
  {
   "cell_type": "code",
   "execution_count": null,
   "metadata": {},
   "outputs": [],
   "source": []
  },
  {
   "cell_type": "code",
   "execution_count": null,
   "metadata": {},
   "outputs": [],
   "source": []
  },
  {
   "cell_type": "code",
   "execution_count": null,
   "metadata": {},
   "outputs": [],
   "source": []
  },
  {
   "cell_type": "code",
   "execution_count": null,
   "metadata": {},
   "outputs": [],
   "source": []
  },
  {
   "cell_type": "code",
   "execution_count": null,
   "metadata": {},
   "outputs": [],
   "source": []
  },
  {
   "cell_type": "code",
   "execution_count": null,
   "metadata": {},
   "outputs": [],
   "source": []
  },
  {
   "cell_type": "code",
   "execution_count": null,
   "metadata": {},
   "outputs": [],
   "source": []
  },
  {
   "cell_type": "code",
   "execution_count": null,
   "metadata": {},
   "outputs": [],
   "source": []
  },
  {
   "cell_type": "code",
   "execution_count": null,
   "metadata": {},
   "outputs": [],
   "source": []
  },
  {
   "cell_type": "code",
   "execution_count": null,
   "metadata": {},
   "outputs": [],
   "source": []
  },
  {
   "cell_type": "code",
   "execution_count": null,
   "metadata": {},
   "outputs": [],
   "source": []
  },
  {
   "cell_type": "code",
   "execution_count": null,
   "metadata": {},
   "outputs": [],
   "source": []
  },
  {
   "cell_type": "code",
   "execution_count": null,
   "metadata": {},
   "outputs": [],
   "source": []
  },
  {
   "cell_type": "code",
   "execution_count": null,
   "metadata": {},
   "outputs": [],
   "source": []
  },
  {
   "cell_type": "code",
   "execution_count": null,
   "metadata": {},
   "outputs": [],
   "source": []
  },
  {
   "cell_type": "code",
   "execution_count": null,
   "metadata": {},
   "outputs": [],
   "source": []
  },
  {
   "cell_type": "code",
   "execution_count": null,
   "metadata": {},
   "outputs": [],
   "source": []
  },
  {
   "cell_type": "code",
   "execution_count": null,
   "metadata": {},
   "outputs": [],
   "source": []
  },
  {
   "cell_type": "code",
   "execution_count": null,
   "metadata": {},
   "outputs": [],
   "source": []
  },
  {
   "cell_type": "code",
   "execution_count": null,
   "metadata": {},
   "outputs": [],
   "source": []
  },
  {
   "cell_type": "code",
   "execution_count": null,
   "metadata": {},
   "outputs": [],
   "source": []
  },
  {
   "cell_type": "code",
   "execution_count": null,
   "metadata": {},
   "outputs": [],
   "source": []
  },
  {
   "cell_type": "code",
   "execution_count": null,
   "metadata": {},
   "outputs": [],
   "source": []
  }
 ],
 "metadata": {
  "kernelspec": {
   "display_name": "Python 3.10.4 64-bit",
   "language": "python",
   "name": "python3"
  },
  "language_info": {
   "codemirror_mode": {
    "name": "ipython",
    "version": 3
   },
   "file_extension": ".py",
   "mimetype": "text/x-python",
   "name": "python",
   "nbconvert_exporter": "python",
   "pygments_lexer": "ipython3",
   "version": "3.10.4"
  },
  "orig_nbformat": 4,
  "vscode": {
   "interpreter": {
    "hash": "1f77a9bf1b2b07eff0a94386bff0c99c292626568e08c9028e7f66dffdc5179c"
   }
  }
 },
 "nbformat": 4,
 "nbformat_minor": 2
}
