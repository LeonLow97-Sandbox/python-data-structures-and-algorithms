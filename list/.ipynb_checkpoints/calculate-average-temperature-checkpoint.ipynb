{
 "cells": [
  {
   "cell_type": "markdown",
   "id": "9585d908",
   "metadata": {},
   "source": [
    "##### My Solution"
   ]
  },
  {
   "cell_type": "code",
   "execution_count": 12,
   "id": "a5e2bb87",
   "metadata": {},
   "outputs": [
    {
     "name": "stdout",
     "output_type": "stream",
     "text": [
      "How many day's temperature? 3\n",
      "Day 1's high temp'10\n",
      "Day 2's high temp'20\n",
      "Day 3's high temp'15\n",
      "Average = 15.0\n",
      "1 day(s) above average\n"
     ]
    }
   ],
   "source": [
    "# Number of days:\n",
    "numberDays = int(input(\"How many day's temperature? \"))\n",
    "\n",
    "dayTemp = []\n",
    "for i in range(1, numberDays+1):\n",
    "    highTemp = int(input(\"Day {}'s high temp'\".format(i)))\n",
    "    dayTemp.append(highTemp)\n",
    "    \n",
    "average_dayTemp = sum(dayTemp) / len(dayTemp)\n",
    "print(\"Average = {}\".format(average_dayTemp))\n",
    "\n",
    "\n",
    "# Number of days above average temperature\n",
    "aboveAverageTemp = []\n",
    "for i in dayTemp:\n",
    "    if i > average_dayTemp:\n",
    "        aboveAverageTemp.append(i)\n",
    "print(\"{} day(s) above average\".format(len(aboveAverageTemp)))"
   ]
  },
  {
   "cell_type": "markdown",
   "id": "78b47536",
   "metadata": {},
   "source": [
    "##### Teacher's solution"
   ]
  },
  {
   "cell_type": "code",
   "execution_count": 13,
   "id": "9546035d",
   "metadata": {},
   "outputs": [
    {
     "name": "stdout",
     "output_type": "stream",
     "text": [
      "How many day's temperature? 3\n",
      "Day 1's high temp: 10\n",
      "Day 2's high temp: 20\n",
      "Day 3's high temp: 15\n",
      "\n",
      "Average = 15.0\n",
      "1 day(s) above average\n"
     ]
    }
   ],
   "source": [
    "# Calculate Average Temperature\n",
    "numDays = int(input(\"How many day's temperature? \"))\n",
    "total = 0\n",
    "temp = []\n",
    "for i in range(numDays):\n",
    "    nextDay = int(input(\"Day \" + str(i+1) + \"'s high temp: \"))\n",
    "    temp.append(nextDay)\n",
    "    total += temp[i]\n",
    "    \n",
    "avg = round(total/numDays, 2)\n",
    "print(\"\\nAverage = \" + str(avg))\n",
    "\n",
    "above = 0\n",
    "for i in temp:\n",
    "    if i > avg:\n",
    "        above += 1\n",
    "        \n",
    "print(str(above) + \" day(s) above average\")"
   ]
  },
  {
   "cell_type": "markdown",
   "id": "b1320ffa",
   "metadata": {},
   "source": [
    "round()"
   ]
  },
  {
   "cell_type": "code",
   "execution_count": 14,
   "id": "c329c64c",
   "metadata": {},
   "outputs": [
    {
     "data": {
      "text/plain": [
       "9.55"
      ]
     },
     "execution_count": 14,
     "metadata": {},
     "output_type": "execute_result"
    }
   ],
   "source": [
    "x = round(9.54856, 2)\n",
    "x"
   ]
  },
  {
   "cell_type": "code",
   "execution_count": null,
   "id": "9e31b750",
   "metadata": {},
   "outputs": [],
   "source": []
  },
  {
   "cell_type": "code",
   "execution_count": null,
   "id": "bf985bf4",
   "metadata": {},
   "outputs": [],
   "source": []
  },
  {
   "cell_type": "code",
   "execution_count": null,
   "id": "9f291a96",
   "metadata": {},
   "outputs": [],
   "source": []
  },
  {
   "cell_type": "code",
   "execution_count": null,
   "id": "9588e826",
   "metadata": {},
   "outputs": [],
   "source": []
  }
 ],
 "metadata": {
  "kernelspec": {
   "display_name": "Python 3 (ipykernel)",
   "language": "python",
   "name": "python3"
  },
  "language_info": {
   "codemirror_mode": {
    "name": "ipython",
    "version": 3
   },
   "file_extension": ".py",
   "mimetype": "text/x-python",
   "name": "python",
   "nbconvert_exporter": "python",
   "pygments_lexer": "ipython3",
   "version": "3.10.4"
  }
 },
 "nbformat": 4,
 "nbformat_minor": 5
}
