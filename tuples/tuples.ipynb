{
 "cells": [
  {
   "cell_type": "markdown",
   "metadata": {},
   "source": [
    "#### How to create a Tuple?"
   ]
  },
  {
   "cell_type": "code",
   "execution_count": 50,
   "metadata": {},
   "outputs": [
    {
     "name": "stdout",
     "output_type": "stream",
     "text": [
      "('a', 'b', 'c', 'd', 'e')\n"
     ]
    }
   ],
   "source": [
    "newTuple = (\"a\", \"b\", \"c\", \"d\", \"e\")\n",
    "\n",
    "print(newTuple)"
   ]
  },
  {
   "cell_type": "code",
   "execution_count": 51,
   "metadata": {},
   "outputs": [
    {
     "name": "stdout",
     "output_type": "stream",
     "text": [
      "('a',)\n",
      "a\n"
     ]
    }
   ],
   "source": [
    "# If only 1 value for Tuple, put comma at the end, otherwise Python assumes it to be a string\n",
    "newTuple = (\"a\",)\n",
    "notTuple = (\"a\")\n",
    "\n",
    "print(newTuple)\n",
    "print(notTuple)"
   ]
  },
  {
   "cell_type": "code",
   "execution_count": 52,
   "metadata": {},
   "outputs": [
    {
     "name": "stdout",
     "output_type": "stream",
     "text": [
      "()\n"
     ]
    }
   ],
   "source": [
    "# Creating empty tuple (Time complexity: O(1), space complexity: O(n))\n",
    "newTuple1 = tuple()\n",
    "print(newTuple1)"
   ]
  },
  {
   "cell_type": "code",
   "execution_count": 53,
   "metadata": {},
   "outputs": [
    {
     "name": "stdout",
     "output_type": "stream",
     "text": [
      "('j', 'i', 'e', 'w', 'e', 'i')\n"
     ]
    }
   ],
   "source": [
    "newTuple1 = tuple(\"jiewei\")\n",
    "print(newTuple1)"
   ]
  },
  {
   "cell_type": "markdown",
   "metadata": {},
   "source": [
    "#### How to access Tuple Elements?\n",
    "- List can modify but tuple cannot"
   ]
  },
  {
   "cell_type": "code",
   "execution_count": 54,
   "metadata": {},
   "outputs": [
    {
     "name": "stdout",
     "output_type": "stream",
     "text": [
      "b\n",
      "e\n",
      "d\n",
      "('b', 'c')\n",
      "('b', 'c', 'd', 'e')\n",
      "('a', 'b', 'c', 'd', 'e')\n"
     ]
    }
   ],
   "source": [
    "newTuple = (\"a\", \"b\", \"c\", \"d\", \"e\")\n",
    "\n",
    "# Access Tuple Element (works the same as list)\n",
    "print(newTuple[1])\n",
    "print(newTuple[-1])\n",
    "print(newTuple[-2])\n",
    "\n",
    "# Slice [:] Operator\n",
    "# Syntax: tuple[leftIndex: rightIndex], exclude rightIndex\n",
    "print(newTuple[1:3])\n",
    "print(newTuple[1:])\n",
    "print(newTuple[:])"
   ]
  },
  {
   "cell_type": "code",
   "execution_count": 55,
   "metadata": {},
   "outputs": [],
   "source": [
    "# Cannot modify Tuples (immutable)\n",
    "# print(newTuple[1]) = \"m\"   # SyntaxError"
   ]
  },
  {
   "cell_type": "markdown",
   "metadata": {},
   "source": [
    "#### How to traverse through Tuple?\n",
    "- Time complexity: O(n)\n",
    "- Space complexity: O(1) additional memory not required"
   ]
  },
  {
   "cell_type": "code",
   "execution_count": 56,
   "metadata": {},
   "outputs": [
    {
     "name": "stdout",
     "output_type": "stream",
     "text": [
      "a\n",
      "b\n",
      "c\n",
      "d\n",
      "e\n"
     ]
    }
   ],
   "source": [
    "newTuple = (\"a\", \"b\", \"c\", \"d\", \"e\")\n",
    "\n",
    "for i in newTuple:\n",
    "  print(i)"
   ]
  },
  {
   "cell_type": "code",
   "execution_count": 57,
   "metadata": {},
   "outputs": [
    {
     "name": "stdout",
     "output_type": "stream",
     "text": [
      "a\n",
      "b\n",
      "c\n",
      "d\n",
      "e\n"
     ]
    }
   ],
   "source": [
    "# using range and len\n",
    "for i in range(len(newTuple)):\n",
    "  print(newTuple[i])"
   ]
  },
  {
   "cell_type": "markdown",
   "metadata": {},
   "source": [
    "#### Search for an element in Tuple\n",
    "- Time Complexity: O(n)\n",
    "- Space Complexity: O(1)"
   ]
  },
  {
   "cell_type": "code",
   "execution_count": 58,
   "metadata": {},
   "outputs": [
    {
     "name": "stdout",
     "output_type": "stream",
     "text": [
      "True\n",
      "False\n"
     ]
    }
   ],
   "source": [
    "newTuple = (\"a\", \"b\", \"c\", \"d\", \"e\")\n",
    "\n",
    "# Using \"in\" operator\n",
    "print(\"d\" in newTuple)\n",
    "print(\"m\" in newTuple)"
   ]
  },
  {
   "cell_type": "code",
   "execution_count": 59,
   "metadata": {},
   "outputs": [
    {
     "name": "stdout",
     "output_type": "stream",
     "text": [
      "2\n",
      "The element does not exist in the Tuple.\n"
     ]
    }
   ],
   "source": [
    "newTuple = (\"a\", \"b\", \"c\", \"d\", \"e\")\n",
    "\n",
    "# linear search\n",
    "def searchTuple(pTuple, element):\n",
    "  for i in pTuple:\n",
    "    if i == element:\n",
    "      return pTuple.index(i)\n",
    "  return \"The element does not exist in the Tuple.\"\n",
    "\n",
    "print(searchTuple(newTuple, \"c\"))\n",
    "print(searchTuple(newTuple, \"m\"))\n"
   ]
  },
  {
   "cell_type": "markdown",
   "metadata": {},
   "source": [
    "#### Tuple Operations / Functions"
   ]
  },
  {
   "cell_type": "code",
   "execution_count": 60,
   "metadata": {},
   "outputs": [
    {
     "name": "stdout",
     "output_type": "stream",
     "text": [
      "(1, 4, 3, 2, 5, 1, 2, 6, 9, 8, 7)\n"
     ]
    }
   ],
   "source": [
    "myTuple = (1, 4, 3, 2, 5)\n",
    "myTuple1 = (1, 2, 6, 9, 8, 7)\n",
    "\n",
    "# Concatenation of 2 Tuples with \"+\" operator\n",
    "print(myTuple + myTuple1)"
   ]
  },
  {
   "cell_type": "code",
   "execution_count": 61,
   "metadata": {},
   "outputs": [
    {
     "name": "stdout",
     "output_type": "stream",
     "text": [
      "(1, 4, 3, 2, 5, 1, 4, 3, 2, 5, 1, 4, 3, 2, 5, 1, 4, 3, 2, 5)\n"
     ]
    }
   ],
   "source": [
    "# Using \"*\" operator with a tuple for repetition\n",
    "print(myTuple * 4)"
   ]
  },
  {
   "cell_type": "code",
   "execution_count": 62,
   "metadata": {},
   "outputs": [
    {
     "name": "stdout",
     "output_type": "stream",
     "text": [
      "True\n"
     ]
    }
   ],
   "source": [
    "# \"in\" operator\n",
    "print(1 in myTuple)"
   ]
  },
  {
   "cell_type": "code",
   "execution_count": 63,
   "metadata": {},
   "outputs": [
    {
     "name": "stdout",
     "output_type": "stream",
     "text": [
      "2\n"
     ]
    }
   ],
   "source": [
    "# count() method\n",
    "myTuple = (1, 2, 4, 3, 2)\n",
    "\n",
    "print(myTuple.count(2))"
   ]
  },
  {
   "cell_type": "code",
   "execution_count": 64,
   "metadata": {},
   "outputs": [
    {
     "name": "stdout",
     "output_type": "stream",
     "text": [
      "3\n"
     ]
    }
   ],
   "source": [
    "# index() method : returns the index\n",
    "myTuple = (1, 2, 4, 3, 2)\n",
    "\n",
    "print(myTuple.index(3))"
   ]
  },
  {
   "cell_type": "code",
   "execution_count": 65,
   "metadata": {},
   "outputs": [
    {
     "data": {
      "text/plain": [
       "6"
      ]
     },
     "execution_count": 65,
     "metadata": {},
     "output_type": "execute_result"
    }
   ],
   "source": [
    "myTuple = (1, 2, 4, 3, 2, 7)\n",
    "\n",
    "# len() function\n",
    "len(myTuple)"
   ]
  },
  {
   "cell_type": "code",
   "execution_count": 66,
   "metadata": {},
   "outputs": [
    {
     "name": "stdout",
     "output_type": "stream",
     "text": [
      "7\n",
      "1\n"
     ]
    }
   ],
   "source": [
    "myTuple = (1, 2, 4, 3, 2, 7)\n",
    "\n",
    "# max() function : returns maximum value in Tuple\n",
    "print(max(myTuple))\n",
    "print(min(myTuple))"
   ]
  },
  {
   "cell_type": "code",
   "execution_count": 67,
   "metadata": {},
   "outputs": [
    {
     "name": "stdout",
     "output_type": "stream",
     "text": [
      "(1, 2, 3, 4, 5, 6)\n",
      "<class 'tuple'>\n"
     ]
    }
   ],
   "source": [
    "# Using tuple() function to convert list to tuple\n",
    "myList = [1, 2, 3, 4, 5, 6]\n",
    "\n",
    "print(tuple(myList))\n",
    "print(type(tuple(myList)))"
   ]
  },
  {
   "cell_type": "markdown",
   "metadata": {},
   "source": [
    "#### Tuples vs Lists\n",
    "- Lists are mutable and tuples are immutable\n",
    "- Function that can be used for both lists and tuples:\n",
    "`len() | max() | min() | sum() | any() | all() | sorted`\n",
    "- Methods that can be used for both lists and tuples: `count() and index()`\n",
    "- Methods the cannot be used for tuples: `append() | insert() | remove() | pop() | clear() | sort() | reverse()`"
   ]
  },
  {
   "cell_type": "code",
   "execution_count": 68,
   "metadata": {},
   "outputs": [
    {
     "name": "stdout",
     "output_type": "stream",
     "text": [
      "[0, 3, 2, 3, 4, 5, 6, 7]\n"
     ]
    }
   ],
   "source": [
    "list1 = [0,1,2,3,4,5,6,7]\n",
    "\n",
    "list1[1] = 3\n",
    "print(list1)"
   ]
  },
  {
   "cell_type": "code",
   "execution_count": 69,
   "metadata": {},
   "outputs": [
    {
     "name": "stdout",
     "output_type": "stream",
     "text": [
      "[7, 6, 5, 4, 3, 2, 1, 0]\n"
     ]
    }
   ],
   "source": [
    "# Reassign the entire list\n",
    "list1 = [7,6,5,4,3,2,1,0]\n",
    "print(list1)"
   ]
  },
  {
   "cell_type": "code",
   "execution_count": 70,
   "metadata": {},
   "outputs": [
    {
     "name": "stdout",
     "output_type": "stream",
     "text": [
      "[6, 5, 4, 3, 2, 1, 0]\n"
     ]
    }
   ],
   "source": [
    "# delete element in list\n",
    "del list1[0]\n",
    "print(list1)"
   ]
  },
  {
   "cell_type": "code",
   "execution_count": 71,
   "metadata": {},
   "outputs": [],
   "source": [
    "# Let's try these with a tuple\n",
    "tuple1 = (0,1,2,3,4,5,6,7)\n",
    "\n",
    "# Cannot reassign to single element in Tuple\n",
    "# tuple1[1] = 3   # TypeError"
   ]
  },
  {
   "cell_type": "code",
   "execution_count": 72,
   "metadata": {},
   "outputs": [
    {
     "name": "stdout",
     "output_type": "stream",
     "text": [
      "(7, 8, 9, 0)\n"
     ]
    }
   ],
   "source": [
    "# However, we can reassign ENTIRE tuple.\n",
    "tuple1 = 7,8,9,0\n",
    "print(tuple1)"
   ]
  },
  {
   "cell_type": "code",
   "execution_count": 73,
   "metadata": {},
   "outputs": [],
   "source": [
    "# Cannot delete single element in Tuple\n",
    "# del tuple1[0] # TypeError"
   ]
  },
  {
   "cell_type": "code",
   "execution_count": 74,
   "metadata": {},
   "outputs": [],
   "source": [
    "# can delete entire tuple.\n",
    "del tuple1"
   ]
  },
  {
   "cell_type": "markdown",
   "metadata": {},
   "source": [
    "- Tuples can be stored in Lists\n",
    "- Lists can be stored in Tuples."
   ]
  },
  {
   "cell_type": "code",
   "execution_count": 76,
   "metadata": {},
   "outputs": [
    {
     "name": "stdout",
     "output_type": "stream",
     "text": [
      "[(1, 2), (9, 0), (3, 4)]\n"
     ]
    }
   ],
   "source": [
    "# Tuples can be stored in List\n",
    "list1 = [(1, 2), (9,0), (3,4)]\n",
    "print(list1)"
   ]
  },
  {
   "cell_type": "code",
   "execution_count": 77,
   "metadata": {},
   "outputs": [
    {
     "name": "stdout",
     "output_type": "stream",
     "text": [
      "([1, 2], [3, 4], [5, 6])\n"
     ]
    }
   ],
   "source": [
    "# list can be stored in tuple\n",
    "tuple1 = ([1,2], [3,4], [5,6])\n",
    "print(tuple1)"
   ]
  },
  {
   "cell_type": "code",
   "execution_count": 78,
   "metadata": {},
   "outputs": [],
   "source": [
    "# Both tuples and lists can be nested\n",
    "tuple1 = ((1, 2), (3, 4), (5, 6))"
   ]
  },
  {
   "cell_type": "markdown",
   "metadata": {},
   "source": [
    "##### When should we use Tuples?\n",
    "- We generally use tuples for heterogeneous (different) data types and lists for homogeneous (similar) data types.\n",
    "- Iterating through a tuple is faster than with list.\n",
    "- Tuples that contain immutable elements can be used as a key for a dictionary. \n",
    "- If you have data that doesn't change, implementing it as tuple will guarantee that it remains write-protected."
   ]
  },
  {
   "cell_type": "code",
   "execution_count": 79,
   "metadata": {},
   "outputs": [
    {
     "name": "stdout",
     "output_type": "stream",
     "text": [
      "0\n"
     ]
    }
   ],
   "source": [
    "init_tuple = ()\n",
    "print (init_tuple.__len__())"
   ]
  },
  {
   "cell_type": "code",
   "execution_count": 80,
   "metadata": {},
   "outputs": [
    {
     "name": "stdout",
     "output_type": "stream",
     "text": [
      "True\n"
     ]
    }
   ],
   "source": [
    "init_tuple_a = 'a', 'b'\n",
    "init_tuple_b = ('a', 'b')\n",
    " \n",
    "print(init_tuple_a == init_tuple_b)"
   ]
  },
  {
   "cell_type": "code",
   "execution_count": 81,
   "metadata": {},
   "outputs": [
    {
     "name": "stdout",
     "output_type": "stream",
     "text": [
      "('1', '2', '3', '4')\n"
     ]
    }
   ],
   "source": [
    "init_tuple_a = '1', '2'\n",
    "init_tuple_b = ('3', '4')\n",
    " \n",
    "print (init_tuple_a + init_tuple_b)"
   ]
  },
  {
   "cell_type": "code",
   "execution_count": 84,
   "metadata": {},
   "outputs": [
    {
     "name": "stdout",
     "output_type": "stream",
     "text": [
      "10\n"
     ]
    },
    {
     "data": {
      "text/plain": [
       "[None]"
      ]
     },
     "execution_count": 84,
     "metadata": {},
     "output_type": "execute_result"
    }
   ],
   "source": [
    "init_tuple_a = 1, 2\n",
    "init_tuple_b = (3, 4)\n",
    " \n",
    "[print(sum(x)) for x in [init_tuple_a + init_tuple_b]]"
   ]
  },
  {
   "cell_type": "code",
   "execution_count": 85,
   "metadata": {},
   "outputs": [
    {
     "name": "stdout",
     "output_type": "stream",
     "text": [
      "6\n"
     ]
    }
   ],
   "source": [
    "init_tuple = [(0, 1), (1, 2), (2, 3)]\n",
    " \n",
    "result = sum(n for _, n in init_tuple)\n",
    " \n",
    "print(result)"
   ]
  }
 ],
 "metadata": {
  "kernelspec": {
   "display_name": "Python 3.10.4 64-bit",
   "language": "python",
   "name": "python3"
  },
  "language_info": {
   "codemirror_mode": {
    "name": "ipython",
    "version": 3
   },
   "file_extension": ".py",
   "mimetype": "text/x-python",
   "name": "python",
   "nbconvert_exporter": "python",
   "pygments_lexer": "ipython3",
   "version": "3.10.4"
  },
  "orig_nbformat": 4,
  "vscode": {
   "interpreter": {
    "hash": "1f77a9bf1b2b07eff0a94386bff0c99c292626568e08c9028e7f66dffdc5179c"
   }
  }
 },
 "nbformat": 4,
 "nbformat_minor": 2
}
