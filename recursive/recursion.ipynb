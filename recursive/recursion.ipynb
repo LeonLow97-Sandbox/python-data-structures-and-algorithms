{
 "cells": [
  {
   "cell_type": "markdown",
   "id": "ddf52de8",
   "metadata": {},
   "source": [
    "### Recursion"
   ]
  },
  {
   "cell_type": "code",
   "execution_count": 2,
   "id": "7ecd0468",
   "metadata": {},
   "outputs": [
    {
     "name": "stdout",
     "output_type": "stream",
     "text": [
      "All dolls are opened\n"
     ]
    }
   ],
   "source": [
    "def openRussianDoll(doll):\n",
    "    # end the loop, else infinite loop\n",
    "    if doll == 1:\n",
    "        print(\"All dolls are opened\")\n",
    "    else:\n",
    "        openRussianDoll(doll - 1)\n",
    "        \n",
    "openRussianDoll(10)"
   ]
  },
  {
   "cell_type": "markdown",
   "id": "40cc8277",
   "metadata": {},
   "source": [
    "#### Recursion: Stack Memory\n",
    "- LAST IN FIRST OUT"
   ]
  },
  {
   "cell_type": "code",
   "execution_count": 6,
   "id": "76e2f74f",
   "metadata": {},
   "outputs": [],
   "source": [
    "def firstMethod():\n",
    "    secondMethod()\n",
    "    print(\"1st method...\")\n",
    "    \n",
    "def secondMethod():\n",
    "    thirdMethod()\n",
    "    print(\"2nd method...\")\n",
    "    \n",
    "def thirdMethod():\n",
    "    fourthMethod()\n",
    "    print(\"3rd method...\")\n",
    "\n",
    "# Not stored in Stack memory because no function is called inside,\n",
    "# system does not need to store it in memory.\n",
    "def fourthMethod():\n",
    "    print(\"4th method...\")"
   ]
  },
  {
   "cell_type": "code",
   "execution_count": 7,
   "id": "f30e375c",
   "metadata": {
    "scrolled": true
   },
   "outputs": [
    {
     "name": "stdout",
     "output_type": "stream",
     "text": [
      "4th method...\n",
      "3rd method...\n",
      "2nd method...\n",
      "1st method...\n"
     ]
    }
   ],
   "source": [
    "firstMethod()"
   ]
  },
  {
   "cell_type": "markdown",
   "id": "44d370b4",
   "metadata": {},
   "source": [
    "<img src=\"recursiveMethod.png\" style=\"width:60%\">"
   ]
  },
  {
   "cell_type": "code",
   "execution_count": 8,
   "id": "355caa73",
   "metadata": {},
   "outputs": [
    {
     "name": "stdout",
     "output_type": "stream",
     "text": [
      "n is less than 1.\n",
      "1\n",
      "2\n",
      "3\n",
      "4\n"
     ]
    }
   ],
   "source": [
    "# How Recursion is stored in Stack Memory?\n",
    "def recursiveMethod(n):\n",
    "    if n < 1:\n",
    "        print(\"n is less than 1.\")\n",
    "    else: \n",
    "        recursiveMethod(n-1)\n",
    "        print(n)\n",
    "        \n",
    "recursiveMethod(4)"
   ]
  },
  {
   "cell_type": "markdown",
   "id": "5e089b6f",
   "metadata": {},
   "source": [
    "### Recursive vs Iterative Solutions"
   ]
  },
  {
   "cell_type": "markdown",
   "id": "dab2da1a",
   "metadata": {},
   "source": [
    "<img src=\"recursive-vs-iterative.png\" style=\"width:60%\">"
   ]
  },
  {
   "cell_type": "code",
   "execution_count": 12,
   "id": "635b88ed",
   "metadata": {},
   "outputs": [
    {
     "data": {
      "text/plain": [
       "16"
      ]
     },
     "execution_count": 12,
     "metadata": {},
     "output_type": "execute_result"
    }
   ],
   "source": [
    "# Iterative\n",
    "def powerOfTwoIterative(n):\n",
    "    i = 0\n",
    "    power = 1\n",
    "    while i < n:\n",
    "        power = power * 2\n",
    "        i += 1\n",
    "    return power\n",
    "\n",
    "powerOfTwoIterative(4)"
   ]
  },
  {
   "cell_type": "markdown",
   "id": "ad326036",
   "metadata": {},
   "source": [
    "### Recursion: Factorial Example with 3 Steps"
   ]
  },
  {
   "cell_type": "code",
   "execution_count": 11,
   "id": "ac88ede1",
   "metadata": {},
   "outputs": [
    {
     "data": {
      "text/plain": [
       "3628800"
      ]
     },
     "execution_count": 11,
     "metadata": {},
     "output_type": "execute_result"
    }
   ],
   "source": [
    "def factorial(n):\n",
    "    # step 3: handling exceptional cases (negative number)\n",
    "    assert n >= 0 and int(n) == n, \"The number must be a positive integer!\"\n",
    "    # step 2: base case (stopping criterion)\n",
    "    if n in [0,1]:\n",
    "        return 1\n",
    "    # step 1: recursive case\n",
    "    else:\n",
    "        return n * factorial(n-1)\n",
    "\n",
    "factorial(10)"
   ]
  },
  {
   "cell_type": "markdown",
   "id": "86295eeb",
   "metadata": {},
   "source": [
    "### Recursion: Fibonacci Numbers\n",
    "- Fibonacci sequence is a sequence of numbers in which each number is the sum of the 2 preceding ones and the sequence starts from 0 and 1.\n",
    "- 0, 1, 1, 2, 3, 5, 8, 13, 21, 34, 55, 89, ..."
   ]
  },
  {
   "cell_type": "code",
   "execution_count": 6,
   "id": "0848e8cd",
   "metadata": {},
   "outputs": [
    {
     "data": {
      "text/plain": [
       "13"
      ]
     },
     "execution_count": 6,
     "metadata": {},
     "output_type": "execute_result"
    }
   ],
   "source": [
    "def fibonacci(n):\n",
    "    assert n >= 0 and int(n) == n, \"Fibonacci number cannot be negative number or non integer\"\n",
    "    # step 2\n",
    "    if n in [0,1]:\n",
    "        return n\n",
    "    else :\n",
    "        # step 1\n",
    "        return fibonacci(n-1) + fibonacci(n-2)\n",
    "\n",
    "fibonacci(7)"
   ]
  },
  {
   "cell_type": "markdown",
   "id": "b500b035",
   "metadata": {},
   "source": [
    "### Interview Question 1\n",
    "#### How to find the sum of digits of a positive integer number using recursion?\n",
    "<p style=\"color:red\">Step 1: Recursive case - the flow </p>\n",
    "<ul>\n",
    "    <li>10   10/10 = 1 and Remainder = 0</li>\n",
    "    <li>54   54/10 = 5 and Remainder = 4</li>\n",
    "    <li>112  112/10 = 11 and Remainder = 2 <br> &nbsp;&nbsp;&nbsp;&nbsp;&nbsp;&nbsp;&nbsp; 11/10 = 1 and Remainder = 1</li>\n",
    "</ul>\n",
    "<small>For 3 digit numbers, need to divide again</small>\n",
    "<p><b>f(n) = n%10 + f(n/10)</b></p>\n",
    "<p style=\"color:red\">Step 2: Base Case </p>\n",
    "<p>n = 0</p>"
   ]
  },
  {
   "cell_type": "code",
   "execution_count": 6,
   "id": "e012182b",
   "metadata": {},
   "outputs": [
    {
     "data": {
      "text/plain": [
       "15"
      ]
     },
     "execution_count": 6,
     "metadata": {},
     "output_type": "execute_result"
    }
   ],
   "source": [
    "def sumOfDigits(n):\n",
    "    assert n >= 0 and int(n) == n, \"The number has to be a positive integer.\"\n",
    "    if n == 0:\n",
    "        return 0\n",
    "    else:\n",
    "        return int(n%10) + sumOfDigits(int(n//10))\n",
    "\n",
    "sumOfDigits(12345)"
   ]
  },
  {
   "cell_type": "markdown",
   "id": "85f8b940",
   "metadata": {},
   "source": [
    "### Interview Question 2\n",
    "#### How to calculate power of a number using recursion?\n",
    "<p style=\"color:red\">Step 1: Recursive case - the flow </p>\n",
    "<ul>\n",
    "    <li>x<sup>n</sup> = x*x*x*x...(n times)...*x</li>\n",
    "    <li>2<sup>4</sup> = 2*2*2*2</li>\n",
    "    <li>x<sup>a</sup> + x<sup>b</sup> = x<sup>a+b</sup></li>\n",
    "</ul>\n",
    "<p><b>x<sup>n</sup> = x * x<sup>n-1</sup></b></p>\n",
    "<p style=\"color:red\">Step 2: Base Case </p>\n",
    "<ul>\n",
    "    <li>n = 0</li>\n",
    "    <li>n = 1</li>\n",
    "</ul>\n",
    "<p style=\"color:red\">Step 3: Unintentional cases </p>\n",
    "<ul>\n",
    "    <small>Reason: If exp=1.2, exp-1 will never reach 0 --> infinite loop</small>\n",
    "    <li>power(2, 1.2)</li>\n",
    "    <li>power(2, -1)</li>\n",
    "</ul>"
   ]
  },
  {
   "cell_type": "code",
   "execution_count": 4,
   "id": "0eba4e02",
   "metadata": {},
   "outputs": [
    {
     "data": {
      "text/plain": [
       "32"
      ]
     },
     "execution_count": 4,
     "metadata": {},
     "output_type": "execute_result"
    }
   ],
   "source": [
    "def power(base, exp):\n",
    "    assert exp >= 0 and int(exp) == exp, \"The exponent must be a positive integer only.\"\n",
    "    if exp == 0:\n",
    "        return 1\n",
    "    if exp == 1:\n",
    "        return base\n",
    "    else:\n",
    "        return base * power(base, exp-1)\n",
    "\n",
    "power(2, 5)"
   ]
  },
  {
   "cell_type": "markdown",
   "id": "dbed8ca5",
   "metadata": {},
   "source": [
    "### How to find GCD (Greatest Common Divisor) of 2 numbers using recursion?\n",
    "<p style=\"color:red\">Step 1: Recursive case - the flow </p>\n",
    "<p>GCD is the largest positive integer that divides the numbers without a remainder.</p>\n",
    "<ul>\n",
    "    <small>GCD(8,12) = 4</small>\n",
    "    <li>8 = <b>2*2</b>*2</li>\n",
    "    <li>12 = <b>2*2</b>*3</li>\n",
    "</ul>\n",
    "<ul>\n",
    "    <p>Euclidean algorithm</p>\n",
    "    <small>GCD(48,18)</small>\n",
    "    <li>Step 1: 48/18 = 2 remainder 12</li>\n",
    "    <li>Step 2: 18/12 = 1 remainder 6</li>\n",
    "    <li>Step 3: 12/6 = 2 remainder 0</li>\n",
    "    <small>Stop when remainder = 0</small>\n",
    "</ul>\n",
    "<p>GCD(a,0) = a</p>\n",
    "<p>GCD(a,b) = GCD(b, a mod b)<p>"
   ]
  },
  {
   "cell_type": "code",
   "execution_count": 13,
   "id": "4155d5a3",
   "metadata": {},
   "outputs": [
    {
     "data": {
      "text/plain": [
       "6"
      ]
     },
     "execution_count": 13,
     "metadata": {},
     "output_type": "execute_result"
    }
   ],
   "source": [
    "def gcd(a,b):\n",
    "    assert int(a) == a and int(b) == b, \"The number must be integer only.\"\n",
    "    if a < 0:\n",
    "        a = -1 * a\n",
    "    if b < 0:\n",
    "        b = -1 * b\n",
    "        \n",
    "    if b == 0:\n",
    "        return a\n",
    "    else:\n",
    "        return gcd(b, a%b)\n",
    "\n",
    "gcd(48,18)"
   ]
  },
  {
   "cell_type": "markdown",
   "id": "b491255e",
   "metadata": {},
   "source": [
    "### Interview Question 4\n",
    "#### How to convert a number from Decimal to Binary using recursion?\n",
    "\n",
    "<p style=\"color:red\">Step 1: Recursive case - the flow </p>\n",
    "<ul>\n",
    "    <li>Step 1: Divide the number by 2.</li>\n",
    "    <li>Step 2: Get the integer quotient for the next iteration.</li>\n",
    "    <li>Step 3: Get the remainder for the binary digit.</li>\n",
    "    <li>Step 4: Repeat the steps until the quotient is equal to 0.</li>\n",
    "</ul>\n",
    "<p><b>f(n) = n mod 2 + 10 * f(n/2)</b></p>"
   ]
  },
  {
   "cell_type": "code",
   "execution_count": 11,
   "id": "11ad7f2c",
   "metadata": {},
   "outputs": [
    {
     "data": {
      "text/plain": [
       "1101"
      ]
     },
     "execution_count": 11,
     "metadata": {},
     "output_type": "execute_result"
    }
   ],
   "source": [
    "def decimalToBinary(n):\n",
    "    assert int(n) == n, \"n must be an integer\"\n",
    "    # Base condition: n = 0 because it stop when quotient = 0\n",
    "    if n == 0:\n",
    "        return 0 \n",
    "    else:\n",
    "        return n%2 + 10 * decimalToBinary(int(n/2))\n",
    "\n",
    "decimalToBinary(13)"
   ]
  },
  {
   "cell_type": "code",
   "execution_count": null,
   "id": "f03648a1",
   "metadata": {},
   "outputs": [],
   "source": []
  },
  {
   "cell_type": "code",
   "execution_count": null,
   "id": "41d3322f",
   "metadata": {},
   "outputs": [],
   "source": []
  },
  {
   "cell_type": "code",
   "execution_count": null,
   "id": "6fe30a17",
   "metadata": {},
   "outputs": [],
   "source": []
  },
  {
   "cell_type": "code",
   "execution_count": null,
   "id": "037e87d4",
   "metadata": {},
   "outputs": [],
   "source": []
  },
  {
   "cell_type": "code",
   "execution_count": null,
   "id": "faeeba65",
   "metadata": {},
   "outputs": [],
   "source": []
  },
  {
   "cell_type": "code",
   "execution_count": null,
   "id": "9d91f478",
   "metadata": {},
   "outputs": [],
   "source": []
  },
  {
   "cell_type": "code",
   "execution_count": null,
   "id": "c564ebbc",
   "metadata": {},
   "outputs": [],
   "source": []
  },
  {
   "cell_type": "code",
   "execution_count": null,
   "id": "d0cfe150",
   "metadata": {},
   "outputs": [],
   "source": []
  },
  {
   "cell_type": "code",
   "execution_count": null,
   "id": "962a4878",
   "metadata": {},
   "outputs": [],
   "source": []
  },
  {
   "cell_type": "code",
   "execution_count": null,
   "id": "a1370372",
   "metadata": {},
   "outputs": [],
   "source": []
  },
  {
   "cell_type": "code",
   "execution_count": null,
   "id": "b9a39a49",
   "metadata": {},
   "outputs": [],
   "source": []
  },
  {
   "cell_type": "code",
   "execution_count": null,
   "id": "cf1e4f60",
   "metadata": {},
   "outputs": [],
   "source": []
  },
  {
   "cell_type": "code",
   "execution_count": null,
   "id": "18919b45",
   "metadata": {},
   "outputs": [],
   "source": []
  },
  {
   "cell_type": "code",
   "execution_count": null,
   "id": "10445058",
   "metadata": {},
   "outputs": [],
   "source": []
  },
  {
   "cell_type": "code",
   "execution_count": null,
   "id": "d38c9575",
   "metadata": {},
   "outputs": [],
   "source": []
  },
  {
   "cell_type": "code",
   "execution_count": null,
   "id": "ac083944",
   "metadata": {},
   "outputs": [],
   "source": []
  }
 ],
 "metadata": {
  "kernelspec": {
   "display_name": "Python 3 (ipykernel)",
   "language": "python",
   "name": "python3"
  },
  "language_info": {
   "codemirror_mode": {
    "name": "ipython",
    "version": 3
   },
   "file_extension": ".py",
   "mimetype": "text/x-python",
   "name": "python",
   "nbconvert_exporter": "python",
   "pygments_lexer": "ipython3",
   "version": "3.10.4"
  }
 },
 "nbformat": 4,
 "nbformat_minor": 5
}
