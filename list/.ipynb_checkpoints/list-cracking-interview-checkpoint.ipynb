{
 "cells": [
  {
   "cell_type": "code",
   "execution_count": 11,
   "id": "709d4459",
   "metadata": {},
   "outputs": [
    {
     "name": "stdout",
     "output_type": "stream",
     "text": [
      "13\n"
     ]
    }
   ],
   "source": [
    "# Question 1 - Missing Number\n",
    "myList = [1, 2, 3, 4, 5, 6, 7, 8, 9, 10, 11, 12, 14, 15, 16, 17, 18, 19, 20] # where 1+2+3+...+n = n(n+1)/2\n",
    "\n",
    "def findMissingNumber(myList, n):\n",
    "    sum1 = n*(n+1)/2\n",
    "    sum2 = sum(myList)\n",
    "    return round(sum1 - sum2)\n",
    "\n",
    "findMissingNumber(myList, 20)"
   ]
  },
  {
   "cell_type": "markdown",
   "id": "e676ebdf",
   "metadata": {},
   "source": [
    "#### Question 2 - Two Sum\n",
    "Write a program to find all pairs of integers whose sum is equal to a given number.\n",
    "- Given an array of integers `num` and an integer `target`, return indices of the 2 numbers such that they add up to `target`.\n",
    "- Assume that each input would have **exactly one solution**, and you may not use the same element twice.\n",
    "- Can return the answer in any order.\n",
    "###### Questions to ask:\n",
    "- Does array contain only positive or negative numbers?\n",
    "- What if the same pair repeats twice, should we print it every time?\n",
    "- If the reverse of the pair is acceptable, e.g., can we print both (4, 1) and (1, 4) if the given sum is 5.\n",
    "- Do we need to print only distinct pairs? Is (3, 3) a valid pair for given sum of 6?\n",
    "- How big is the array?"
   ]
  },
  {
   "cell_type": "code",
   "execution_count": 3,
   "id": "ae2fcd82",
   "metadata": {},
   "outputs": [
    {
     "data": {
      "text/plain": [
       "[0, 2]"
      ]
     },
     "execution_count": 3,
     "metadata": {},
     "output_type": "execute_result"
    }
   ],
   "source": [
    "# Question 2 - Two Sum (My Solution)\n",
    "def twoSum(myList, target):\n",
    "    resultList = []\n",
    "    for i in range(len(myList)):\n",
    "        for j in range(i+1, len(myList)):\n",
    "            \n",
    "            if myList[i] + myList[j] == target:\n",
    "                resultList.append(i)\n",
    "                resultList.append(j)\n",
    "                return resultList\n",
    "            \n",
    "    return \"No Result\"\n",
    "\n",
    "givenList = [3, 2, 3]\n",
    "target = 6\n",
    "twoSum(givenList, target)"
   ]
  },
  {
   "cell_type": "code",
   "execution_count": 2,
   "id": "784011f9",
   "metadata": {},
   "outputs": [
    {
     "name": "stdout",
     "output_type": "stream",
     "text": [
      "0 6\n",
      "1 5\n",
      "3 5\n"
     ]
    }
   ],
   "source": [
    "# Question 2 - Two Sum (Teacher's Solution - assume no distinct pairs)\n",
    "def findPairs(nums, target):\n",
    "    for i in range(len(nums)):\n",
    "        for j in range(i+1, len(nums)):\n",
    "            if nums[i] == nums[j]:\n",
    "                continue\n",
    "            elif nums[i] + nums[j] == target:\n",
    "                print(i, j)\n",
    "                \n",
    "myList = [1,2,3,2,3,4,5,6]\n",
    "\n",
    "findPairs(myList, 6)"
   ]
  },
  {
   "cell_type": "code",
   "execution_count": 15,
   "id": "d8139207",
   "metadata": {},
   "outputs": [
    {
     "name": "stdout",
     "output_type": "stream",
     "text": [
      "13 exists in the array\n"
     ]
    }
   ],
   "source": [
    "# Question 3 - How to check if an array contains a number in Python?\n",
    "import numpy as np\n",
    "myArray = np.array([1,2,3,4,5,6,7,8,9,10,11,12,13,14,15,16,17,18,19,20])\n",
    "\n",
    "def findNumber(array, number):\n",
    "    for i in range(len(array)):\n",
    "        if array[i] == number:\n",
    "            print(\"{} exists in the array\".format(number))\n",
    "            break\n",
    "            \n",
    "findNumber(myArray, 13)"
   ]
  },
  {
   "cell_type": "code",
   "execution_count": 24,
   "id": "4584fc67",
   "metadata": {},
   "outputs": [
    {
     "data": {
      "text/plain": [
       "3306"
      ]
     },
     "execution_count": 24,
     "metadata": {},
     "output_type": "execute_result"
    }
   ],
   "source": [
    "# Question 4 - How to find maximum product of 2 integers in the array where all elements are positive?\n",
    "import numpy as np\n",
    "myArray = np.array([1, 20, 30, 44, 5, 56, 57, 8, 9, 10, 31, 12, 13, 14, 35, 16, 27, 58, 19, 21])\n",
    "\n",
    "def maximumProduct(array):\n",
    "    highest = 0\n",
    "    secondHighest = 0\n",
    "    for i in range(len(array)):\n",
    "        if array[i] > highest:\n",
    "            highest = array[i]\n",
    "            #array.remove(highest)\n",
    "    \n",
    "    for i in range(len(array)):\n",
    "        if array[i] > secondHighest and array[i] != highest:\n",
    "            secondHighest = array[i]\n",
    "        \n",
    "    return highest * secondHighest\n",
    "\n",
    "maximumProduct(myArray)"
   ]
  },
  {
   "cell_type": "code",
   "execution_count": 26,
   "id": "1f1d527b",
   "metadata": {},
   "outputs": [
    {
     "data": {
      "text/plain": [
       "3306"
      ]
     },
     "execution_count": 26,
     "metadata": {},
     "output_type": "execute_result"
    }
   ],
   "source": [
    "# Question 4 (Teacher's solution)\n",
    "myArray = np.array([1, 20, 30, 44, 5, 56, 57, 8, 9, 10, 31, 12, 13, 14, 35, 16, 27, 58, 19, 21])\n",
    "\n",
    "def findMaxProduct(array):\n",
    "    maxProduct = 0\n",
    "    for i in range(len(array)):\n",
    "        for j in range(i+1, len(array)):\n",
    "            if array[i] * array[j] > maxProduct:\n",
    "                maxProduct = array[i] * array[j]\n",
    "    return maxProduct\n",
    "\n",
    "findMaxProduct(myArray)"
   ]
  },
  {
   "cell_type": "code",
   "execution_count": 30,
   "id": "8f8aa206",
   "metadata": {},
   "outputs": [
    {
     "name": "stdout",
     "output_type": "stream",
     "text": [
      "19 is duplicated\n"
     ]
    },
    {
     "data": {
      "text/plain": [
       "False"
      ]
     },
     "execution_count": 30,
     "metadata": {},
     "output_type": "execute_result"
    }
   ],
   "source": [
    "# Question 5 - Is Unique: Implement an algorithm to determine if a list has all unique charcaters, using Python list\n",
    "myList = [1, 20, 30, 44, 5, 56, 57, 8, 19, 10, 31, 12, 13, 14, 35, 16, 27, 58, 19, 21]\n",
    "\n",
    "def isUnique(ls):\n",
    "    resultList = []\n",
    "    for i in ls:\n",
    "        if i not in resultList:\n",
    "            resultList.append(i)\n",
    "        else:\n",
    "            print(\"{} is duplicated\".format(i))\n",
    "            return False\n",
    "    return resultList\n",
    "\n",
    "isUnique(myList)"
   ]
  },
  {
   "cell_type": "code",
   "execution_count": 34,
   "id": "90712ce9",
   "metadata": {},
   "outputs": [
    {
     "data": {
      "text/plain": [
       "True"
      ]
     },
     "execution_count": 34,
     "metadata": {},
     "output_type": "execute_result"
    }
   ],
   "source": [
    "# Question 6 - Permutation\n",
    "def permutation(list1, list2):\n",
    "    if len(list1) != len(list2):\n",
    "        return False\n",
    "    \n",
    "    list1.sort()\n",
    "    list2.sort()\n",
    "    if list1 == list2:\n",
    "        return True\n",
    "    else:\n",
    "        return False\n",
    "    \n",
    "list1 = [1,2,3]\n",
    "list2 = [1,3,2]\n",
    "permutation(list1, list2)"
   ]
  },
  {
   "cell_type": "code",
   "execution_count": 35,
   "id": "2d37ec79",
   "metadata": {},
   "outputs": [
    {
     "data": {
      "text/plain": [
       "array([[1, 2, 3],\n",
       "       [4, 5, 6],\n",
       "       [7, 8, 9]])"
      ]
     },
     "execution_count": 35,
     "metadata": {},
     "output_type": "execute_result"
    }
   ],
   "source": [
    "# Question7 - Rotate Matrix\n",
    "import numpy as np\n",
    "myArray = np.array([[1,2,3],[4,5,6],[7,8,9]])\n",
    "\n",
    "def rotateMatrix(matrix):\n",
    "    # to find number of rows\n",
    "    n = len(matrix)\n",
    "    \n",
    "    for layer in range(n // 2):\n",
    "        first = layer\n",
    "        last = n - layer - 1\n",
    "        for i in range(first, last):\n",
    "            # save top element\n",
    "            top = matrix[layer][i]\n",
    "            # move left element to top\n",
    "            matrix[layer][i] = matrix[-i-1][layer]\n",
    "            # move bottom element to left\n",
    "            matrix[-i-1][layer] = matrix[-layer-1][-i-1]\n",
    "            # move right element to bottom\n",
    "            matrix[-layer-1][-i-1] = matrix[i][-layer-1]\n",
    "            # move top to right\n",
    "            matrix[i][-layer-1] = top"
   ]
  },
  {
   "cell_type": "code",
   "execution_count": 38,
   "id": "23899a7d",
   "metadata": {},
   "outputs": [
    {
     "data": {
      "text/plain": [
       "1"
      ]
     },
     "execution_count": 38,
     "metadata": {},
     "output_type": "execute_result"
    }
   ],
   "source": [
    "len(myArray) // 2"
   ]
  },
  {
   "cell_type": "code",
   "execution_count": 39,
   "id": "634bb027",
   "metadata": {},
   "outputs": [
    {
     "data": {
      "text/plain": [
       "2"
      ]
     },
     "execution_count": 39,
     "metadata": {},
     "output_type": "execute_result"
    }
   ],
   "source": [
    "4//2"
   ]
  },
  {
   "cell_type": "code",
   "execution_count": null,
   "id": "2cccf27d",
   "metadata": {},
   "outputs": [],
   "source": []
  },
  {
   "cell_type": "code",
   "execution_count": null,
   "id": "203cfacb",
   "metadata": {},
   "outputs": [],
   "source": []
  },
  {
   "cell_type": "code",
   "execution_count": null,
   "id": "5fc30c02",
   "metadata": {},
   "outputs": [],
   "source": []
  },
  {
   "cell_type": "code",
   "execution_count": null,
   "id": "0e8e792c",
   "metadata": {},
   "outputs": [],
   "source": []
  },
  {
   "cell_type": "code",
   "execution_count": null,
   "id": "c29e0422",
   "metadata": {},
   "outputs": [],
   "source": []
  },
  {
   "cell_type": "code",
   "execution_count": null,
   "id": "7faf3fac",
   "metadata": {},
   "outputs": [],
   "source": []
  },
  {
   "cell_type": "code",
   "execution_count": null,
   "id": "cd049b75",
   "metadata": {},
   "outputs": [],
   "source": []
  },
  {
   "cell_type": "code",
   "execution_count": null,
   "id": "50802b56",
   "metadata": {},
   "outputs": [],
   "source": []
  },
  {
   "cell_type": "code",
   "execution_count": null,
   "id": "68cc37bd",
   "metadata": {},
   "outputs": [],
   "source": []
  },
  {
   "cell_type": "code",
   "execution_count": null,
   "id": "9e16978f",
   "metadata": {},
   "outputs": [],
   "source": []
  },
  {
   "cell_type": "code",
   "execution_count": null,
   "id": "b35bce45",
   "metadata": {},
   "outputs": [],
   "source": []
  },
  {
   "cell_type": "code",
   "execution_count": null,
   "id": "fecdd680",
   "metadata": {},
   "outputs": [],
   "source": []
  },
  {
   "cell_type": "code",
   "execution_count": null,
   "id": "b8e55654",
   "metadata": {},
   "outputs": [],
   "source": []
  },
  {
   "cell_type": "code",
   "execution_count": null,
   "id": "e4de2093",
   "metadata": {},
   "outputs": [],
   "source": []
  },
  {
   "cell_type": "code",
   "execution_count": null,
   "id": "a571129f",
   "metadata": {},
   "outputs": [],
   "source": []
  },
  {
   "cell_type": "code",
   "execution_count": null,
   "id": "ce37611d",
   "metadata": {},
   "outputs": [],
   "source": []
  },
  {
   "cell_type": "code",
   "execution_count": null,
   "id": "90f14d7e",
   "metadata": {},
   "outputs": [],
   "source": []
  },
  {
   "cell_type": "code",
   "execution_count": null,
   "id": "a7a2898b",
   "metadata": {},
   "outputs": [],
   "source": []
  },
  {
   "cell_type": "code",
   "execution_count": null,
   "id": "61cf137d",
   "metadata": {},
   "outputs": [],
   "source": []
  },
  {
   "cell_type": "code",
   "execution_count": null,
   "id": "eef6ec5b",
   "metadata": {},
   "outputs": [],
   "source": []
  },
  {
   "cell_type": "code",
   "execution_count": null,
   "id": "84e6e63a",
   "metadata": {},
   "outputs": [],
   "source": []
  },
  {
   "cell_type": "code",
   "execution_count": null,
   "id": "522b1b16",
   "metadata": {},
   "outputs": [],
   "source": []
  },
  {
   "cell_type": "code",
   "execution_count": null,
   "id": "a4fc5df3",
   "metadata": {},
   "outputs": [],
   "source": []
  },
  {
   "cell_type": "code",
   "execution_count": null,
   "id": "3bc15069",
   "metadata": {},
   "outputs": [],
   "source": []
  },
  {
   "cell_type": "code",
   "execution_count": null,
   "id": "444a7ff0",
   "metadata": {},
   "outputs": [],
   "source": []
  },
  {
   "cell_type": "code",
   "execution_count": null,
   "id": "3919e6b8",
   "metadata": {},
   "outputs": [],
   "source": []
  },
  {
   "cell_type": "code",
   "execution_count": null,
   "id": "043b9d52",
   "metadata": {},
   "outputs": [],
   "source": []
  },
  {
   "cell_type": "code",
   "execution_count": null,
   "id": "3f92bd3d",
   "metadata": {},
   "outputs": [],
   "source": []
  },
  {
   "cell_type": "code",
   "execution_count": null,
   "id": "d4489572",
   "metadata": {},
   "outputs": [],
   "source": []
  },
  {
   "cell_type": "code",
   "execution_count": null,
   "id": "98b641bc",
   "metadata": {},
   "outputs": [],
   "source": []
  },
  {
   "cell_type": "code",
   "execution_count": null,
   "id": "2394b6eb",
   "metadata": {},
   "outputs": [],
   "source": []
  },
  {
   "cell_type": "code",
   "execution_count": null,
   "id": "f5454d6a",
   "metadata": {},
   "outputs": [],
   "source": []
  }
 ],
 "metadata": {
  "kernelspec": {
   "display_name": "Python 3 (ipykernel)",
   "language": "python",
   "name": "python3"
  },
  "language_info": {
   "codemirror_mode": {
    "name": "ipython",
    "version": 3
   },
   "file_extension": ".py",
   "mimetype": "text/x-python",
   "name": "python",
   "nbconvert_exporter": "python",
   "pygments_lexer": "ipython3",
   "version": "3.10.4"
  }
 },
 "nbformat": 4,
 "nbformat_minor": 5
}
