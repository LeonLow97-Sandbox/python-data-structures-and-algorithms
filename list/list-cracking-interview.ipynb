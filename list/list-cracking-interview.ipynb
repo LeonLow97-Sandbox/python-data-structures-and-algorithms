{
 "cells": [
  {
   "cell_type": "code",
   "execution_count": null,
   "id": "c0de3705",
   "metadata": {},
   "outputs": [],
   "source": [
    "# Question 1 uses arithmetic progression where Sn = n ( (a1 + an) / 2 ), n is the number of terms being added,\n",
    "# a1 is the first term, an is the nth term (last term).\n",
    "# Thus, n = 20, a1 = 1, an = 20 --> n(n+1)/2"
   ]
  },
  {
   "cell_type": "code",
   "execution_count": 8,
   "id": "709d4459",
   "metadata": {},
   "outputs": [
    {
     "data": {
      "text/plain": [
       "13.0"
      ]
     },
     "execution_count": 8,
     "metadata": {},
     "output_type": "execute_result"
    }
   ],
   "source": [
    "# Question 1 - Missing Number\n",
    "myList = [1, 2, 3, 4, 5, 6, 7, 8, 9, 10, 11, 12, 14, 15, 16, 17, 18, 19, 20] # where 1+2+3+...+n = n(n+1)/2\n",
    "\n",
    "def findMissingNumber(myList, n):\n",
    "    arithmeticSum = n*(n+1)/2\n",
    "    listSum = sum(myList)\n",
    "    return arithmeticSum - listSum\n",
    "\n",
    "findMissingNumber(myList, 20)"
   ]
  },
  {
   "cell_type": "markdown",
   "id": "e676ebdf",
   "metadata": {},
   "source": [
    "#### Question 2 - Two Sum\n",
    "Write a program to find all pairs of integers whose sum is equal to a given number.\n",
    "- Given an array of integers `num` and an integer `target`, return indices of the 2 numbers such that they add up to `target`.\n",
    "- Assume that each input would have **exactly one solution**, and you may not use the same element twice.\n",
    "- Can return the answer in any order.\n",
    "###### Questions to ask:\n",
    "- Does array contain only positive or negative numbers?\n",
    "- What if the same pair repeats twice, should we print it every time?\n",
    "- If the reverse of the pair is acceptable, e.g., can we print both (4, 1) and (1, 4) if the given sum is 5.\n",
    "- Do we need to print only distinct pairs? Is (3, 3) a valid pair for given sum of 6?\n",
    "- How big is the array?"
   ]
  },
  {
   "cell_type": "code",
   "execution_count": 3,
   "id": "ae2fcd82",
   "metadata": {},
   "outputs": [
    {
     "data": {
      "text/plain": [
       "[0, 2]"
      ]
     },
     "execution_count": 3,
     "metadata": {},
     "output_type": "execute_result"
    }
   ],
   "source": [
    "# Question 2 - Two Sum (My Solution)\n",
    "def twoSum(myList, target):\n",
    "    resultList = []\n",
    "    for i in range(len(myList)):\n",
    "        for j in range(i+1, len(myList)):\n",
    "            \n",
    "            if myList[i] + myList[j] == target:\n",
    "                resultList.append(i)\n",
    "                resultList.append(j)\n",
    "                return resultList\n",
    "            \n",
    "    return \"No Result\"\n",
    "\n",
    "givenList = [3, 2, 3]\n",
    "target = 6\n",
    "twoSum(givenList, target)"
   ]
  },
  {
   "cell_type": "code",
   "execution_count": 13,
   "id": "784011f9",
   "metadata": {},
   "outputs": [
    {
     "name": "stdout",
     "output_type": "stream",
     "text": [
      "0 6\n",
      "1 5\n",
      "3 5\n"
     ]
    }
   ],
   "source": [
    "# Question 2 - Two Sum (Teacher's Solution - assume distinct pairs)\n",
    "def findPairs(nums, target):\n",
    "    for i in range(len(nums)):\n",
    "        for j in range(i+1, len(nums)):\n",
    "            # assume distict pairs (so disallow similar pairs)\n",
    "            if nums[i] == nums[j]:\n",
    "                continue\n",
    "            elif nums[i] + nums[j] == target:\n",
    "                print(i, j)\n",
    "                \n",
    "myList = [1,2,3,2,3,4,5,6]\n",
    "\n",
    "findPairs(myList, 6)"
   ]
  },
  {
   "cell_type": "code",
   "execution_count": 24,
   "id": "26e1e11c",
   "metadata": {},
   "outputs": [
    {
     "data": {
      "text/plain": [
       "'13 exists in the array'"
      ]
     },
     "execution_count": 24,
     "metadata": {},
     "output_type": "execute_result"
    }
   ],
   "source": [
    "# Question 3 - How to check if an array contains a number in Python?\n",
    "import numpy as np\n",
    "myArray = np.array([1,2,3,4,5,6,7,8,9,10,11,12,13,14,15,16,17,18,19,20])\n",
    "\n",
    "def findNumber(array, number):\n",
    "    for i in range(len(array)):\n",
    "        if array[i] == number:\n",
    "            return \"{} exists in the array\".format(number)\n",
    "    return \"This number does not exist in the array.\"\n",
    "            \n",
    "findNumber(myArray, 13)"
   ]
  },
  {
   "cell_type": "code",
   "execution_count": 24,
   "id": "28426163",
   "metadata": {},
   "outputs": [
    {
     "data": {
      "text/plain": [
       "3306"
      ]
     },
     "execution_count": 24,
     "metadata": {},
     "output_type": "execute_result"
    }
   ],
   "source": [
    "# Question 4 - How to find maximum product of 2 integers in the array where all elements are positive?\n",
    "import numpy as np\n",
    "myArray = np.array([1, 20, 30, 44, 5, 56, 57, 8, 9, 10, 31, 12, 13, 14, 35, 16, 27, 58, 19, 21])\n",
    "\n",
    "def maximumProduct(array):\n",
    "    highest = 0\n",
    "    secondHighest = 0\n",
    "    for i in range(len(array)):\n",
    "        if array[i] > highest:\n",
    "            highest = array[i]\n",
    "            #array.remove(highest)\n",
    "    \n",
    "    for i in range(len(array)):\n",
    "        if array[i] > secondHighest and array[i] != highest:\n",
    "            secondHighest = array[i]\n",
    "        \n",
    "    return highest * secondHighest\n",
    "\n",
    "maximumProduct(myArray)"
   ]
  },
  {
   "cell_type": "code",
   "execution_count": 26,
   "id": "06e09c6a",
   "metadata": {},
   "outputs": [
    {
     "data": {
      "text/plain": [
       "3306"
      ]
     },
     "execution_count": 26,
     "metadata": {},
     "output_type": "execute_result"
    }
   ],
   "source": [
    "# Question 4 (Teacher's solution)\n",
    "myArray = np.array([1, 20, 30, 44, 5, 56, 57, 8, 9, 10, 31, 12, 13, 14, 35, 16, 27, 58, 19, 21])\n",
    "\n",
    "def findMaxProduct(array):\n",
    "    maxProduct = 0\n",
    "    for i in range(len(array)):\n",
    "        for j in range(i+1, len(array)):\n",
    "            if array[i] * array[j] > maxProduct:\n",
    "                maxProduct = array[i] * array[j]\n",
    "    return maxProduct\n",
    "\n",
    "findMaxProduct(myArray)"
   ]
  },
  {
   "cell_type": "code",
   "execution_count": 30,
   "id": "a8cef807",
   "metadata": {},
   "outputs": [
    {
     "name": "stdout",
     "output_type": "stream",
     "text": [
      "19 is duplicated\n"
     ]
    },
    {
     "data": {
      "text/plain": [
       "False"
      ]
     },
     "execution_count": 30,
     "metadata": {},
     "output_type": "execute_result"
    }
   ],
   "source": [
    "# Question 5 - Is Unique: Implement an algorithm to determine if a list has all unique charcaters, using Python list\n",
    "myList = [1, 20, 30, 44, 5, 56, 57, 8, 19, 10, 31, 12, 13, 14, 35, 16, 27, 58, 19, 21]\n",
    "\n",
    "def isUnique(ls):\n",
    "    resultList = []\n",
    "    for i in ls:\n",
    "        if i not in resultList:\n",
    "            resultList.append(i)\n",
    "        else:\n",
    "            print(\"{} is duplicated\".format(i))\n",
    "            return False\n",
    "    return resultList\n",
    "\n",
    "isUnique(myList)"
   ]
  },
  {
   "cell_type": "code",
   "execution_count": 34,
   "id": "70071be8",
   "metadata": {},
   "outputs": [
    {
     "data": {
      "text/plain": [
       "True"
      ]
     },
     "execution_count": 34,
     "metadata": {},
     "output_type": "execute_result"
    }
   ],
   "source": [
    "# Question 6 - Permutation\n",
    "def permutation(list1, list2):\n",
    "    if len(list1) != len(list2):\n",
    "        return False\n",
    "    \n",
    "    list1.sort()\n",
    "    list2.sort()\n",
    "    if list1 == list2:\n",
    "        return True\n",
    "    else:\n",
    "        return False\n",
    "    \n",
    "list1 = [1,2,3]\n",
    "list2 = [1,3,2]\n",
    "permutation(list1, list2)"
   ]
  },
  {
   "cell_type": "code",
   "execution_count": 43,
   "id": "f9a07163",
   "metadata": {},
   "outputs": [
    {
     "name": "stdout",
     "output_type": "stream",
     "text": [
      "[[1 2 3]\n",
      " [4 5 6]\n",
      " [7 8 9]] \n",
      "\n"
     ]
    },
    {
     "data": {
      "text/plain": [
       "array([[7, 4, 1],\n",
       "       [8, 5, 2],\n",
       "       [9, 6, 3]])"
      ]
     },
     "execution_count": 43,
     "metadata": {},
     "output_type": "execute_result"
    }
   ],
   "source": [
    "# Question7 - Rotate Matrix\n",
    "import numpy as np\n",
    "myArray = np.array([[1,2,3],[4,5,6],[7,8,9]])\n",
    "\n",
    "def rotateMatrix(matrix):\n",
    "    # to find number of rows\n",
    "    n = len(matrix)\n",
    "    \n",
    "    for layer in range(n // 2):\n",
    "        first = layer\n",
    "        last = n - layer - 1\n",
    "        for i in range(first, last):\n",
    "            # save top element\n",
    "            top = matrix[layer][i]\n",
    "            # move left element to top\n",
    "            matrix[layer][i] = matrix[-i-1][layer]\n",
    "            # move bottom element to left\n",
    "            matrix[-i-1][layer] = matrix[-layer-1][-i-1]\n",
    "            # move right element to bottom\n",
    "            matrix[-layer-1][-i-1] = matrix[i][-layer-1]\n",
    "            # move top to right\n",
    "            matrix[i][-layer-1] = top\n",
    "    return matrix\n",
    "\n",
    "print(myArray, \"\\n\")\n",
    "rotateMatrix(myArray)"
   ]
  },
  {
   "cell_type": "code",
   "execution_count": 2,
   "id": "65771652",
   "metadata": {},
   "outputs": [
    {
     "data": {
      "text/plain": [
       "True"
      ]
     },
     "execution_count": 2,
     "metadata": {},
     "output_type": "execute_result"
    }
   ],
   "source": [
    "value = 121\n",
    "\n",
    "def isPalindrome(value):\n",
    "    valueString = str(value)\n",
    "    resultString = \"\"\n",
    "    \n",
    "    if len(valueString) == 0:\n",
    "        return True\n",
    "    \n",
    "    if valueString[0] != valueString[len(valueString) - 1]:\n",
    "        return False\n",
    "    \n",
    "    return isPalindrome(valueString[1:-1])\n",
    "\n",
    "isPalindrome(90709)"
   ]
  },
  {
   "cell_type": "code",
   "execution_count": null,
   "id": "aa47ad7e",
   "metadata": {},
   "outputs": [],
   "source": []
  },
  {
   "cell_type": "code",
   "execution_count": null,
   "id": "ccd4ea32",
   "metadata": {},
   "outputs": [],
   "source": []
  },
  {
   "cell_type": "code",
   "execution_count": null,
   "id": "b8bc02ba",
   "metadata": {},
   "outputs": [],
   "source": []
  },
  {
   "cell_type": "code",
   "execution_count": null,
   "id": "ff93b609",
   "metadata": {},
   "outputs": [],
   "source": []
  },
  {
   "cell_type": "code",
   "execution_count": null,
   "id": "9bbc1436",
   "metadata": {},
   "outputs": [],
   "source": []
  },
  {
   "cell_type": "code",
   "execution_count": null,
   "id": "bf202ce1",
   "metadata": {},
   "outputs": [],
   "source": []
  },
  {
   "cell_type": "code",
   "execution_count": null,
   "id": "981865ec",
   "metadata": {},
   "outputs": [],
   "source": []
  },
  {
   "cell_type": "code",
   "execution_count": null,
   "id": "58a1c0ce",
   "metadata": {},
   "outputs": [],
   "source": []
  },
  {
   "cell_type": "code",
   "execution_count": null,
   "id": "b81bb3c3",
   "metadata": {},
   "outputs": [],
   "source": []
  },
  {
   "cell_type": "code",
   "execution_count": null,
   "id": "a55d3a52",
   "metadata": {},
   "outputs": [],
   "source": []
  },
  {
   "cell_type": "code",
   "execution_count": null,
   "id": "981969ac",
   "metadata": {},
   "outputs": [],
   "source": []
  },
  {
   "cell_type": "code",
   "execution_count": null,
   "id": "7550676f",
   "metadata": {},
   "outputs": [],
   "source": []
  },
  {
   "cell_type": "code",
   "execution_count": null,
   "id": "6e30b9e8",
   "metadata": {},
   "outputs": [],
   "source": []
  },
  {
   "cell_type": "code",
   "execution_count": null,
   "id": "f06f0926",
   "metadata": {},
   "outputs": [],
   "source": []
  },
  {
   "cell_type": "code",
   "execution_count": null,
   "id": "60fed218",
   "metadata": {},
   "outputs": [],
   "source": []
  },
  {
   "cell_type": "code",
   "execution_count": null,
   "id": "c9e2aba2",
   "metadata": {},
   "outputs": [],
   "source": []
  },
  {
   "cell_type": "code",
   "execution_count": null,
   "id": "3cee15b2",
   "metadata": {},
   "outputs": [],
   "source": []
  },
  {
   "cell_type": "code",
   "execution_count": null,
   "id": "ee04ed0a",
   "metadata": {},
   "outputs": [],
   "source": []
  },
  {
   "cell_type": "code",
   "execution_count": null,
   "id": "0e7e2aee",
   "metadata": {},
   "outputs": [],
   "source": []
  },
  {
   "cell_type": "code",
   "execution_count": null,
   "id": "ad1830a6",
   "metadata": {},
   "outputs": [],
   "source": []
  },
  {
   "cell_type": "code",
   "execution_count": null,
   "id": "a5b3cebb",
   "metadata": {},
   "outputs": [],
   "source": []
  },
  {
   "cell_type": "code",
   "execution_count": null,
   "id": "ba9125d1",
   "metadata": {},
   "outputs": [],
   "source": []
  },
  {
   "cell_type": "code",
   "execution_count": null,
   "id": "c9e72772",
   "metadata": {},
   "outputs": [],
   "source": []
  },
  {
   "cell_type": "code",
   "execution_count": null,
   "id": "3919e6b8",
   "metadata": {},
   "outputs": [],
   "source": []
  },
  {
   "cell_type": "code",
   "execution_count": null,
   "id": "043b9d52",
   "metadata": {},
   "outputs": [],
   "source": []
  },
  {
   "cell_type": "code",
   "execution_count": null,
   "id": "3f92bd3d",
   "metadata": {},
   "outputs": [],
   "source": []
  },
  {
   "cell_type": "code",
   "execution_count": null,
   "id": "d4489572",
   "metadata": {},
   "outputs": [],
   "source": []
  },
  {
   "cell_type": "code",
   "execution_count": null,
   "id": "98b641bc",
   "metadata": {},
   "outputs": [],
   "source": []
  },
  {
   "cell_type": "code",
   "execution_count": null,
   "id": "2394b6eb",
   "metadata": {},
   "outputs": [],
   "source": []
  },
  {
   "cell_type": "code",
   "execution_count": null,
   "id": "f5454d6a",
   "metadata": {},
   "outputs": [],
   "source": []
  }
 ],
 "metadata": {
  "kernelspec": {
   "display_name": "Python 3.10.4 64-bit",
   "language": "python",
   "name": "python3"
  },
  "language_info": {
   "codemirror_mode": {
    "name": "ipython",
    "version": 3
   },
   "file_extension": ".py",
   "mimetype": "text/x-python",
   "name": "python",
   "nbconvert_exporter": "python",
   "pygments_lexer": "ipython3",
   "version": "3.10.4"
  },
  "vscode": {
   "interpreter": {
    "hash": "1f77a9bf1b2b07eff0a94386bff0c99c292626568e08c9028e7f66dffdc5179c"
   }
  }
 },
 "nbformat": 4,
 "nbformat_minor": 5
}
