{
 "cells": [
  {
   "cell_type": "markdown",
   "id": "42c07d13",
   "metadata": {},
   "source": [
    "### Power\n",
    "Write a function called power which accepts a base and an exponent. The function should return the power of the base to the exponent. This function should mimic the functionality of math.pow() - do not worry about negative bases and exponents.\n",
    "##### Examples:\n",
    "- power(2,0) = 1\n",
    "- power(2,2) = 4\n",
    "- power(2,4) = 16\n",
    "\n",
    "<p><b>base * power(base, exponent-1)</b></p>"
   ]
  },
  {
   "cell_type": "code",
   "execution_count": 3,
   "id": "bb84f271",
   "metadata": {},
   "outputs": [
    {
     "data": {
      "text/plain": [
       "16"
      ]
     },
     "execution_count": 3,
     "metadata": {},
     "output_type": "execute_result"
    }
   ],
   "source": [
    "def power(base, exponent):\n",
    "    assert exponent >= 0, 'Exponent must both be positive.' \n",
    "    if exponent == 0:\n",
    "        return 1\n",
    "    if exponent == 1:\n",
    "        return base\n",
    "    else:\n",
    "        return base * power(base, exponent-1)\n",
    "    \n",
    "power(-2,4)"
   ]
  },
  {
   "cell_type": "markdown",
   "id": "bb9d6e60",
   "metadata": {},
   "source": [
    "### Factorial\n",
    "- Write a function factorial which accepts a number and returns the factorial of that number. A factorial is the product of an integer and all the integers below it, e.g., factorial four (4!) = 24 because 4 * 3 * 2 * 1 = 24. \n",
    "- **factorial zero (0!) is always 1.**\n",
    "##### Examples:\n",
    "- factorial(1) = 1\n",
    "- factorial(2) = 2\n",
    "- factorial(4) = 24\n",
    "- factorial(7) = 5040\n"
   ]
  },
  {
   "cell_type": "code",
   "execution_count": 5,
   "id": "c0ca20a0",
   "metadata": {},
   "outputs": [
    {
     "data": {
      "text/plain": [
       "5040"
      ]
     },
     "execution_count": 5,
     "metadata": {},
     "output_type": "execute_result"
    }
   ],
   "source": [
    "def factorial(n):\n",
    "    assert int(n) == n and n >= 0, \"n must be a positive integer.\"\n",
    "    if n == 0 or n == 1:\n",
    "        return 1\n",
    "    else:\n",
    "        return n * factorial(n-1)\n",
    "    \n",
    "factorial(7)"
   ]
  },
  {
   "cell_type": "markdown",
   "id": "2cbdfbfa",
   "metadata": {},
   "source": [
    "### productofArray\n",
    "Write a function called `productofArray` which takes in an array of numbers and returns the product of them all.\n",
    "##### Example:\n",
    "- productofArray([1, 2, 3]) = 6\n",
    "- productofArray([1, 2, 3, 10]) = 60"
   ]
  },
  {
   "cell_type": "code",
   "execution_count": 28,
   "id": "e4e98a7a",
   "metadata": {},
   "outputs": [
    {
     "data": {
      "text/plain": [
       "0"
      ]
     },
     "execution_count": 28,
     "metadata": {},
     "output_type": "execute_result"
    }
   ],
   "source": [
    "def productOfArray(arr):\n",
    "    if len(arr) == 0:\n",
    "        return 1\n",
    "    return arr[0] * productOfArray(arr[1:])\n",
    "\n",
    "productOfArray([1, 2, 3])"
   ]
  },
  {
   "cell_type": "markdown",
   "id": "09a938fc",
   "metadata": {},
   "source": [
    "### recursiveRange\n",
    "Write a function called **recursiveRange** which accepts a number and adds up all the numbers from 0 to the number passed to the function.\n",
    "##### Example: \n",
    "- recursiveRange(6) = 21\n",
    "- recursiveRange(10) = 55"
   ]
  },
  {
   "cell_type": "code",
   "execution_count": 3,
   "id": "b998c4e2",
   "metadata": {},
   "outputs": [
    {
     "data": {
      "text/plain": [
       "55"
      ]
     },
     "execution_count": 3,
     "metadata": {},
     "output_type": "execute_result"
    }
   ],
   "source": [
    "def recursiveRange(num):\n",
    "    assert int(num) == num and num >= 0, \"n must be a positive integer.\"\n",
    "    if num == 0:\n",
    "        return 0\n",
    "    else:\n",
    "        return num + recursiveRange(num-1)\n",
    "    \n",
    "recursiveRange(10)"
   ]
  },
  {
   "cell_type": "markdown",
   "id": "d2f20630",
   "metadata": {},
   "source": [
    "### fib\n",
    "Write a recursive function called **fib** which accepts a number and returns the nth number in the Fibonacci sequence. Recall that the Fibonacci sequence is the sequence of whole numbers 0,1,1,2,3,5,... which starts with 0 and 1, and where every number thereafter is equal to the sum of the previous 2 numbers.\n",
    "##### Examples:\n",
    "- fib(4) = 3\n",
    "- fib(10) = 55\n",
    "- fib(28) = 317811\n",
    "- fib(35) = 9227465"
   ]
  },
  {
   "cell_type": "code",
   "execution_count": 10,
   "id": "23cb06fb",
   "metadata": {},
   "outputs": [
    {
     "data": {
      "text/plain": [
       "317811"
      ]
     },
     "execution_count": 10,
     "metadata": {},
     "output_type": "execute_result"
    }
   ],
   "source": [
    "def fib(num):\n",
    "    assert num >= 0 and int(num) == num, \"num must be a positive integer.\"\n",
    "    if num == 0: \n",
    "        return 0\n",
    "    if num == 1:\n",
    "        return 1\n",
    "    else: \n",
    "        return fib(num-1) + fib(num-2)\n",
    "    \n",
    "fib(28)"
   ]
  },
  {
   "cell_type": "markdown",
   "id": "ec0ae4d3",
   "metadata": {},
   "source": [
    "### reverse\n",
    "Write a recursive function called **reverse** which accepts a string and returns a new string in reverse.\n",
    "##### Examples:\n",
    "- reverse(\"python\") = \"nohtyp\"\n",
    "- reverse(\"appmillers\") = \"srellimppa\""
   ]
  },
  {
   "cell_type": "code",
   "execution_count": 34,
   "id": "73de1665",
   "metadata": {},
   "outputs": [
    {
     "data": {
      "text/plain": [
       "'srellimppa'"
      ]
     },
     "execution_count": 34,
     "metadata": {},
     "output_type": "execute_result"
    }
   ],
   "source": [
    "def reverse(string):\n",
    "    assert str(string) == string, \"string must be of type str.\"\n",
    "    if string == \"\":\n",
    "        return \"\"\n",
    "    else:\n",
    "        return string[-1] + reverse(string[:-1])\n",
    "\n",
    "reverse(\"python\")\n",
    "reverse(\"appmillers\")"
   ]
  },
  {
   "cell_type": "markdown",
   "id": "baf21ec4",
   "metadata": {},
   "source": [
    "### isPalindrome\n",
    "Write a recursive function called **isPalindrome** which returns true if the string passed to it is a palindrome (reads the same forward and backward). Otherwise it returns false.\n",
    "##### Example:\n",
    "- isPalindrome(\"awesome\") = false\n",
    "- isPalindrome(\"foobar\") = false\n",
    "- isPalindroma(\"tacocat\") = true"
   ]
  },
  {
   "cell_type": "code",
   "execution_count": 45,
   "id": "2c435e2f",
   "metadata": {},
   "outputs": [
    {
     "data": {
      "text/plain": [
       "True"
      ]
     },
     "execution_count": 45,
     "metadata": {},
     "output_type": "execute_result"
    }
   ],
   "source": [
    "def isPalindrome(string):\n",
    "    assert str(string) == string, \"string must be of type str\"\n",
    "    def reverse(string):\n",
    "        assert str(string) == string, \"string must be of type str.\"\n",
    "        if string == \"\":\n",
    "            return \"\"\n",
    "        else:\n",
    "            return string[-1] + reverse(string[:-1])\n",
    "    \n",
    "    if reverse(string) == string:\n",
    "        return True\n",
    "    else:\n",
    "        return False\n",
    "\n",
    "isPalindrome(\"Hello\")\n",
    "isPalindrome(\"racecar\")"
   ]
  },
  {
   "cell_type": "markdown",
   "id": "daa22c27",
   "metadata": {},
   "source": [
    "### someRecursive\n",
    "Write a recursive function called **someRecursive** which accepts an array and a callback. The function returns true if a single value in the array returns true when passed to the callback. Otherwise it returns false.\n",
    "##### Example:\n",
    "- someRecursive([1,2,3,4], isOdd) = true\n",
    "- someRecursive([4,6,8,9], isOdd) = true\n",
    "- someRecursive([4,6,8], isOdd) = false"
   ]
  },
  {
   "cell_type": "code",
   "execution_count": 61,
   "id": "17f04819",
   "metadata": {},
   "outputs": [
    {
     "data": {
      "text/plain": [
       "True"
      ]
     },
     "execution_count": 61,
     "metadata": {},
     "output_type": "execute_result"
    }
   ],
   "source": [
    "def isOdd(num):\n",
    "    if num%2 == 0:\n",
    "        return False\n",
    "    else:\n",
    "        return True\n",
    "    \n",
    "def someRecursive(arr, cb):\n",
    "    if len(arr) == 0:\n",
    "        return False\n",
    "    \n",
    "    if cb(arr[0]):\n",
    "        return True\n",
    "    else:\n",
    "        return someRecursive(arr[1:], cb)\n",
    "        \n",
    "someRecursive([4,6,8,9],isOdd)"
   ]
  },
  {
   "cell_type": "code",
   "execution_count": 62,
   "id": "194d31ea",
   "metadata": {},
   "outputs": [
    {
     "data": {
      "text/plain": [
       "True"
      ]
     },
     "execution_count": 62,
     "metadata": {},
     "output_type": "execute_result"
    }
   ],
   "source": [
    "# another solution\n",
    "def someRecursive(arr, cb):\n",
    "    if len(arr) == 0:\n",
    "        return False\n",
    "    \n",
    "    if not(cb(arr[0])):\n",
    "        return someRecursive(arr[1:], cb)\n",
    "    return True\n",
    "        \n",
    "someRecursive([4,6,8,9],isOdd)"
   ]
  },
  {
   "cell_type": "code",
   "execution_count": null,
   "id": "5f2cac86",
   "metadata": {},
   "outputs": [],
   "source": []
  },
  {
   "cell_type": "code",
   "execution_count": null,
   "id": "390cc338",
   "metadata": {},
   "outputs": [],
   "source": []
  },
  {
   "cell_type": "code",
   "execution_count": null,
   "id": "bacc017e",
   "metadata": {},
   "outputs": [],
   "source": []
  },
  {
   "cell_type": "code",
   "execution_count": null,
   "id": "b90b1cc0",
   "metadata": {},
   "outputs": [],
   "source": []
  },
  {
   "cell_type": "code",
   "execution_count": null,
   "id": "9621fd9d",
   "metadata": {},
   "outputs": [],
   "source": []
  },
  {
   "cell_type": "code",
   "execution_count": null,
   "id": "995a9c07",
   "metadata": {},
   "outputs": [],
   "source": []
  },
  {
   "cell_type": "code",
   "execution_count": null,
   "id": "1e68fc85",
   "metadata": {},
   "outputs": [],
   "source": []
  },
  {
   "cell_type": "code",
   "execution_count": null,
   "id": "bfcaa0d5",
   "metadata": {},
   "outputs": [],
   "source": []
  },
  {
   "cell_type": "code",
   "execution_count": null,
   "id": "f05d7021",
   "metadata": {},
   "outputs": [],
   "source": []
  },
  {
   "cell_type": "code",
   "execution_count": null,
   "id": "2ce569f6",
   "metadata": {},
   "outputs": [],
   "source": []
  },
  {
   "cell_type": "code",
   "execution_count": null,
   "id": "8890ab55",
   "metadata": {},
   "outputs": [],
   "source": []
  },
  {
   "cell_type": "code",
   "execution_count": null,
   "id": "56f25751",
   "metadata": {},
   "outputs": [],
   "source": []
  },
  {
   "cell_type": "code",
   "execution_count": null,
   "id": "25326a03",
   "metadata": {},
   "outputs": [],
   "source": []
  }
 ],
 "metadata": {
  "kernelspec": {
   "display_name": "Python 3 (ipykernel)",
   "language": "python",
   "name": "python3"
  },
  "language_info": {
   "codemirror_mode": {
    "name": "ipython",
    "version": 3
   },
   "file_extension": ".py",
   "mimetype": "text/x-python",
   "name": "python",
   "nbconvert_exporter": "python",
   "pygments_lexer": "ipython3",
   "version": "3.10.4"
  }
 },
 "nbformat": 4,
 "nbformat_minor": 5
}
