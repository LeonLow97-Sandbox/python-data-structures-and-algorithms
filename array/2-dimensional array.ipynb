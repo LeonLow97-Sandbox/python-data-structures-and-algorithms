{
 "cells": [
  {
   "cell_type": "code",
   "execution_count": 4,
   "id": "679eb8ce",
   "metadata": {},
   "outputs": [],
   "source": [
    "# Day 1 - 11, 15, 10, 6\n",
    "# Day 2 - 10, 14, 11, 5\n",
    "# Day 3 - 12, 17, 12, 8\n",
    "# Day 4 - 15, 18, 14, 9\n",
    "\n",
    "import numpy as np"
   ]
  },
  {
   "cell_type": "code",
   "execution_count": 14,
   "id": "eb947723",
   "metadata": {},
   "outputs": [
    {
     "data": {
      "text/plain": [
       "array([[11, 15, 10,  6],\n",
       "       [10, 14, 11,  5],\n",
       "       [12, 17, 12,  8],\n",
       "       [15, 18, 14,  9]])"
      ]
     },
     "execution_count": 14,
     "metadata": {},
     "output_type": "execute_result"
    }
   ],
   "source": [
    "twoDArray = np.array([[11, 15, 10, 6], [10, 14, 11, 5], [12, 17, 12, 8], [15, 18, 14, 9]])\n",
    "\n",
    "twoDArray ## time complexity O(1), space complexity O(mn)"
   ]
  },
  {
   "cell_type": "markdown",
   "id": "03bc3b41",
   "metadata": {},
   "source": [
    "#### Insertion in 2D array"
   ]
  },
  {
   "cell_type": "code",
   "execution_count": 16,
   "id": "346f3ae2",
   "metadata": {},
   "outputs": [
    {
     "data": {
      "text/plain": [
       "array([[11, 15, 10,  6],\n",
       "       [10, 14, 11,  5],\n",
       "       [12, 17, 12,  8],\n",
       "       [15, 18, 14,  9]])"
      ]
     },
     "execution_count": 16,
     "metadata": {},
     "output_type": "execute_result"
    }
   ],
   "source": [
    "twoDArray"
   ]
  },
  {
   "cell_type": "code",
   "execution_count": 7,
   "id": "6d1164c4",
   "metadata": {},
   "outputs": [
    {
     "data": {
      "text/plain": [
       "array([[ 1, 11, 15, 10,  6],\n",
       "       [ 2, 10, 14, 11,  5],\n",
       "       [ 3, 12, 17, 12,  8],\n",
       "       [ 4, 15, 18, 14,  9]])"
      ]
     },
     "execution_count": 7,
     "metadata": {},
     "output_type": "execute_result"
    }
   ],
   "source": [
    "# First, state the index, e.g., 0\n",
    "# axis = 1 for column insertion and axis = 0 for row insertion\n",
    "newTwoDArray = np.insert(twoDArray, 0, [[1,2,3,4]], axis=1)\n",
    "\n",
    "newTwoDArray"
   ]
  },
  {
   "cell_type": "code",
   "execution_count": 8,
   "id": "1aef2de6",
   "metadata": {},
   "outputs": [
    {
     "data": {
      "text/plain": [
       "array([[ 1,  2,  3,  4],\n",
       "       [11, 15, 10,  6],\n",
       "       [10, 14, 11,  5],\n",
       "       [12, 17, 12,  8],\n",
       "       [15, 18, 14,  9]])"
      ]
     },
     "execution_count": 8,
     "metadata": {},
     "output_type": "execute_result"
    }
   ],
   "source": [
    "newTwoDArray = np.insert(twoDArray, 0, [[1,2,3,4]], axis=0)\n",
    "\n",
    "newTwoDArray"
   ]
  },
  {
   "cell_type": "code",
   "execution_count": 17,
   "id": "0cc39ffc",
   "metadata": {},
   "outputs": [
    {
     "data": {
      "text/plain": [
       "array([[11, 15, 10,  6],\n",
       "       [10, 14, 11,  5],\n",
       "       [12, 17, 12,  8],\n",
       "       [15, 18, 14,  9],\n",
       "       [ 1,  2,  3,  4]])"
      ]
     },
     "execution_count": 17,
     "metadata": {},
     "output_type": "execute_result"
    }
   ],
   "source": [
    "# Add row at end of array\n",
    "# Time complexity is O(1) in this case not O(mn)\n",
    "newTwoDArray = np.append(twoDArray, [[1,2,3,4]], axis=0)\n",
    "\n",
    "newTwoDArray"
   ]
  },
  {
   "cell_type": "markdown",
   "id": "24579771",
   "metadata": {},
   "source": [
    "#### Accessing an element in 2D Array"
   ]
  },
  {
   "cell_type": "code",
   "execution_count": 18,
   "id": "eb11e91b",
   "metadata": {},
   "outputs": [
    {
     "data": {
      "text/plain": [
       "array([[11, 15, 10,  6],\n",
       "       [10, 14, 11,  5],\n",
       "       [12, 17, 12,  8],\n",
       "       [15, 18, 14,  9]])"
      ]
     },
     "execution_count": 18,
     "metadata": {},
     "output_type": "execute_result"
    }
   ],
   "source": [
    "twoDArray = np.array([[11, 15, 10, 6], [10, 14, 11, 5], [12, 17, 12, 8], [15, 18, 14, 9]])\n",
    "\n",
    "twoDArray"
   ]
  },
  {
   "cell_type": "code",
   "execution_count": 20,
   "id": "c5d90acf",
   "metadata": {},
   "outputs": [
    {
     "name": "stdout",
     "output_type": "stream",
     "text": [
      "11\n"
     ]
    }
   ],
   "source": [
    "# len(array[0]) returns number of columns\n",
    "\n",
    "def accessElements(array, rowIndex, colIndex):\n",
    "    if rowIndex >= len(array) and colIndex >= len(array[0]):\n",
    "        print(\"Incorrect index\")\n",
    "    else:\n",
    "        print(array[rowIndex][colIndex])\n",
    "        \n",
    "accessElements(twoDArray, 1, 2)"
   ]
  },
  {
   "cell_type": "code",
   "execution_count": 21,
   "id": "c86c279b",
   "metadata": {},
   "outputs": [
    {
     "name": "stdout",
     "output_type": "stream",
     "text": [
      "8\n"
     ]
    }
   ],
   "source": [
    "accessElements(twoDArray, 2, 3)"
   ]
  },
  {
   "cell_type": "markdown",
   "id": "35f89fcc",
   "metadata": {},
   "source": [
    "#### Traversing through a 2D Array"
   ]
  },
  {
   "cell_type": "code",
   "execution_count": 22,
   "id": "efb8ff94",
   "metadata": {},
   "outputs": [
    {
     "data": {
      "text/plain": [
       "array([[11, 15, 10,  6],\n",
       "       [10, 14, 11,  5],\n",
       "       [12, 17, 12,  8],\n",
       "       [15, 18, 14,  9]])"
      ]
     },
     "execution_count": 22,
     "metadata": {},
     "output_type": "execute_result"
    }
   ],
   "source": [
    "twoDArray = np.array([[11, 15, 10, 6], [10, 14, 11, 5], [12, 17, 12, 8], [15, 18, 14, 9]])\n",
    "\n",
    "twoDArray"
   ]
  },
  {
   "cell_type": "code",
   "execution_count": 23,
   "id": "22b3e979",
   "metadata": {},
   "outputs": [
    {
     "name": "stdout",
     "output_type": "stream",
     "text": [
      "11\n",
      "15\n",
      "10\n",
      "6\n",
      "10\n",
      "14\n",
      "11\n",
      "5\n",
      "12\n",
      "17\n",
      "12\n",
      "8\n",
      "15\n",
      "18\n",
      "14\n",
      "9\n"
     ]
    }
   ],
   "source": [
    "def traverseTDArray(array):\n",
    "    for i in range(len(array)):\n",
    "        for j in range(len(array[0])):\n",
    "            print(array[i][j])\n",
    "            \n",
    "traverseTDArray(twoDArray)"
   ]
  },
  {
   "cell_type": "markdown",
   "id": "4a95a22a",
   "metadata": {},
   "source": [
    "#### Searching 2D Array"
   ]
  },
  {
   "cell_type": "code",
   "execution_count": 24,
   "id": "5929ab4e",
   "metadata": {},
   "outputs": [
    {
     "data": {
      "text/plain": [
       "array([[11, 15, 10,  6],\n",
       "       [10, 14, 11,  5],\n",
       "       [12, 17, 12,  8],\n",
       "       [15, 18, 14,  9]])"
      ]
     },
     "execution_count": 24,
     "metadata": {},
     "output_type": "execute_result"
    }
   ],
   "source": [
    "twoDArray = np.array([[11, 15, 10, 6], [10, 14, 11, 5], [12, 17, 12, 8], [15, 18, 14, 9]])\n",
    "\n",
    "twoDArray"
   ]
  },
  {
   "cell_type": "code",
   "execution_count": 29,
   "id": "ef17a8b0",
   "metadata": {},
   "outputs": [
    {
     "data": {
      "text/plain": [
       "'The value is located at index 2 3'"
      ]
     },
     "execution_count": 29,
     "metadata": {},
     "output_type": "execute_result"
    }
   ],
   "source": [
    "def searchTDArray(array, value):\n",
    "    for i in range(len(array)):\n",
    "        for j in range(len(array[0])):\n",
    "            if array[i][j] == value:\n",
    "                return \"The value is located at index \" + str(i) + \" \" + str(j)\n",
    "    return \"The element is not found\"\n",
    "\n",
    "searchTDArray(twoDArray, 8)"
   ]
  },
  {
   "cell_type": "markdown",
   "id": "a6d0bf6f",
   "metadata": {},
   "source": [
    "#### Deletion in 2D Array"
   ]
  },
  {
   "cell_type": "code",
   "execution_count": 30,
   "id": "d5f86496",
   "metadata": {},
   "outputs": [
    {
     "data": {
      "text/plain": [
       "array([[11, 15, 10,  6],\n",
       "       [10, 14, 11,  5],\n",
       "       [12, 17, 12,  8],\n",
       "       [15, 18, 14,  9]])"
      ]
     },
     "execution_count": 30,
     "metadata": {},
     "output_type": "execute_result"
    }
   ],
   "source": [
    "twoDArray = np.array([[11, 15, 10, 6], [10, 14, 11, 5], [12, 17, 12, 8], [15, 18, 14, 9]])\n",
    "\n",
    "twoDArray"
   ]
  },
  {
   "cell_type": "code",
   "execution_count": 34,
   "id": "1c4c5d58",
   "metadata": {},
   "outputs": [
    {
     "data": {
      "text/plain": [
       "array([[15, 10,  6],\n",
       "       [14, 11,  5],\n",
       "       [17, 12,  8],\n",
       "       [18, 14,  9]])"
      ]
     },
     "execution_count": 34,
     "metadata": {},
     "output_type": "execute_result"
    }
   ],
   "source": [
    "# Deleting first column\n",
    "newTDArray = np.delete(twoDArray, 0, axis=1)\n",
    "newTDArray"
   ]
  },
  {
   "cell_type": "code",
   "execution_count": 33,
   "id": "74610690",
   "metadata": {},
   "outputs": [
    {
     "data": {
      "text/plain": [
       "array([[10, 14, 11,  5],\n",
       "       [12, 17, 12,  8],\n",
       "       [15, 18, 14,  9]])"
      ]
     },
     "execution_count": 33,
     "metadata": {},
     "output_type": "execute_result"
    }
   ],
   "source": [
    "# Deleting first row\n",
    "newTDArray = np.delete(twoDArray, 0, axis=0)\n",
    "newTDArray"
   ]
  },
  {
   "cell_type": "code",
   "execution_count": null,
   "id": "798e83c5",
   "metadata": {},
   "outputs": [],
   "source": []
  },
  {
   "cell_type": "code",
   "execution_count": null,
   "id": "f694505b",
   "metadata": {},
   "outputs": [],
   "source": []
  },
  {
   "cell_type": "code",
   "execution_count": null,
   "id": "43790fe3",
   "metadata": {},
   "outputs": [],
   "source": []
  },
  {
   "cell_type": "code",
   "execution_count": null,
   "id": "46a2deaf",
   "metadata": {},
   "outputs": [],
   "source": []
  },
  {
   "cell_type": "code",
   "execution_count": null,
   "id": "1cf689ba",
   "metadata": {},
   "outputs": [],
   "source": []
  },
  {
   "cell_type": "code",
   "execution_count": null,
   "id": "458e6b74",
   "metadata": {},
   "outputs": [],
   "source": []
  },
  {
   "cell_type": "code",
   "execution_count": null,
   "id": "b322970e",
   "metadata": {},
   "outputs": [],
   "source": []
  },
  {
   "cell_type": "code",
   "execution_count": null,
   "id": "a397b6f3",
   "metadata": {},
   "outputs": [],
   "source": []
  },
  {
   "cell_type": "code",
   "execution_count": null,
   "id": "7535542c",
   "metadata": {},
   "outputs": [],
   "source": []
  },
  {
   "cell_type": "code",
   "execution_count": null,
   "id": "60859604",
   "metadata": {},
   "outputs": [],
   "source": []
  },
  {
   "cell_type": "code",
   "execution_count": null,
   "id": "f3c4ecf3",
   "metadata": {},
   "outputs": [],
   "source": []
  },
  {
   "cell_type": "code",
   "execution_count": null,
   "id": "ff22f9a3",
   "metadata": {},
   "outputs": [],
   "source": []
  },
  {
   "cell_type": "code",
   "execution_count": null,
   "id": "eabce1e1",
   "metadata": {},
   "outputs": [],
   "source": []
  },
  {
   "cell_type": "code",
   "execution_count": null,
   "id": "612f5e71",
   "metadata": {},
   "outputs": [],
   "source": []
  },
  {
   "cell_type": "code",
   "execution_count": null,
   "id": "ef310e13",
   "metadata": {},
   "outputs": [],
   "source": []
  },
  {
   "cell_type": "code",
   "execution_count": null,
   "id": "fde4faa9",
   "metadata": {},
   "outputs": [],
   "source": []
  },
  {
   "cell_type": "code",
   "execution_count": null,
   "id": "6b55c243",
   "metadata": {},
   "outputs": [],
   "source": []
  },
  {
   "cell_type": "code",
   "execution_count": null,
   "id": "46626685",
   "metadata": {},
   "outputs": [],
   "source": []
  },
  {
   "cell_type": "code",
   "execution_count": null,
   "id": "e7b2d04a",
   "metadata": {},
   "outputs": [],
   "source": []
  },
  {
   "cell_type": "code",
   "execution_count": null,
   "id": "8d236b03",
   "metadata": {},
   "outputs": [],
   "source": []
  },
  {
   "cell_type": "code",
   "execution_count": null,
   "id": "88c085b5",
   "metadata": {},
   "outputs": [],
   "source": []
  },
  {
   "cell_type": "code",
   "execution_count": null,
   "id": "98576145",
   "metadata": {},
   "outputs": [],
   "source": []
  },
  {
   "cell_type": "code",
   "execution_count": null,
   "id": "2a4ba001",
   "metadata": {},
   "outputs": [],
   "source": []
  },
  {
   "cell_type": "code",
   "execution_count": null,
   "id": "895580d9",
   "metadata": {},
   "outputs": [],
   "source": []
  },
  {
   "cell_type": "code",
   "execution_count": null,
   "id": "0251fff5",
   "metadata": {},
   "outputs": [],
   "source": []
  },
  {
   "cell_type": "code",
   "execution_count": null,
   "id": "6ee9db06",
   "metadata": {},
   "outputs": [],
   "source": []
  },
  {
   "cell_type": "code",
   "execution_count": null,
   "id": "06ba682f",
   "metadata": {},
   "outputs": [],
   "source": []
  },
  {
   "cell_type": "code",
   "execution_count": null,
   "id": "66c33b3a",
   "metadata": {},
   "outputs": [],
   "source": []
  }
 ],
 "metadata": {
  "kernelspec": {
   "display_name": "Python 3 (ipykernel)",
   "language": "python",
   "name": "python3"
  },
  "language_info": {
   "codemirror_mode": {
    "name": "ipython",
    "version": 3
   },
   "file_extension": ".py",
   "mimetype": "text/x-python",
   "name": "python",
   "nbconvert_exporter": "python",
   "pygments_lexer": "ipython3",
   "version": "3.10.4"
  }
 },
 "nbformat": 4,
 "nbformat_minor": 5
}
