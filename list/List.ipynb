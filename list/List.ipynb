{
 "cells": [
  {
   "cell_type": "code",
   "execution_count": null,
   "id": "4de4c3ae",
   "metadata": {},
   "outputs": [
    {
     "data": {
      "text/plain": [
       "[1, 2, 3, 4]"
      ]
     },
     "execution_count": 33,
     "metadata": {},
     "output_type": "execute_result"
    }
   ],
   "source": [
    "integers = [1,2,3,4]\n",
    "integers"
   ]
  },
  {
   "cell_type": "code",
   "execution_count": 34,
   "id": "c4764c15",
   "metadata": {},
   "outputs": [
    {
     "data": {
      "text/plain": [
       "['Milk', 'Cheese', 'Butter']"
      ]
     },
     "execution_count": 34,
     "metadata": {},
     "output_type": "execute_result"
    }
   ],
   "source": [
    "stringList = [\"Milk\", \"Cheese\", \"Butter\"]\n",
    "stringList"
   ]
  },
  {
   "cell_type": "code",
   "execution_count": 35,
   "id": "bafacfc6",
   "metadata": {},
   "outputs": [
    {
     "data": {
      "text/plain": [
       "[1, 1.5, 'Leon']"
      ]
     },
     "execution_count": 35,
     "metadata": {},
     "output_type": "execute_result"
    }
   ],
   "source": [
    "mixedList = [1, 1.5, \"Leon\"]\n",
    "mixedList"
   ]
  },
  {
   "cell_type": "code",
   "execution_count": 36,
   "id": "4f9c1aea",
   "metadata": {},
   "outputs": [
    {
     "data": {
      "text/plain": [
       "[1, 2, 3, 4, [1.5, 1.6], ['Jie Wei']]"
      ]
     },
     "execution_count": 36,
     "metadata": {},
     "output_type": "execute_result"
    }
   ],
   "source": [
    "nestedList = [1, 2, 3, 4, [1.5, 1.6], [\"Jie Wei\"]]\n",
    "nestedList"
   ]
  },
  {
   "cell_type": "code",
   "execution_count": 37,
   "id": "7b7c9a55",
   "metadata": {},
   "outputs": [
    {
     "data": {
      "text/plain": [
       "[]"
      ]
     },
     "execution_count": 37,
     "metadata": {},
     "output_type": "execute_result"
    }
   ],
   "source": [
    "emptyList = []\n",
    "emptyList"
   ]
  },
  {
   "cell_type": "markdown",
   "id": "677fb281",
   "metadata": {},
   "source": [
    "#### Accessing/Traversing the List"
   ]
  },
  {
   "cell_type": "code",
   "execution_count": null,
   "id": "8e3ff3ad",
   "metadata": {},
   "outputs": [
    {
     "data": {
      "text/plain": [
       "'Cheese'"
      ]
     },
     "execution_count": 38,
     "metadata": {},
     "output_type": "execute_result"
    }
   ],
   "source": [
    "shoppingList = [\"Milk\", \"Cheese\", \"Butter\"]\n",
    "\n",
    "shoppingList[1]"
   ]
  },
  {
   "cell_type": "code",
   "execution_count": 39,
   "id": "8c6c78fc",
   "metadata": {},
   "outputs": [
    {
     "data": {
      "text/plain": [
       "True"
      ]
     },
     "execution_count": 39,
     "metadata": {},
     "output_type": "execute_result"
    }
   ],
   "source": [
    "# 'in' operator\n",
    "\"Milk\" in shoppingList"
   ]
  },
  {
   "cell_type": "code",
   "execution_count": 40,
   "id": "5d18b4cb",
   "metadata": {},
   "outputs": [
    {
     "name": "stdout",
     "output_type": "stream",
     "text": [
      "Milk\n",
      "Cheese\n",
      "Butter\n"
     ]
    }
   ],
   "source": [
    "# Traversing through a list\n",
    "for i in shoppingList:\n",
    "    print(i) "
   ]
  },
  {
   "cell_type": "code",
   "execution_count": 41,
   "id": "04ffc008",
   "metadata": {},
   "outputs": [
    {
     "name": "stdout",
     "output_type": "stream",
     "text": [
      "Milk+\n",
      "Cheese+\n",
      "Butter+\n"
     ]
    }
   ],
   "source": [
    "for i in range(len(shoppingList)):\n",
    "    shoppingList[i] = shoppingList[i] + \"+\"\n",
    "    print(shoppingList[i])"
   ]
  },
  {
   "cell_type": "code",
   "execution_count": 42,
   "id": "03c3db2c",
   "metadata": {},
   "outputs": [],
   "source": [
    "empty = []\n",
    "for i in empty: \n",
    "    print(\"I am empty\")"
   ]
  },
  {
   "cell_type": "markdown",
   "id": "fa5a05bc",
   "metadata": {},
   "source": [
    "#### Update / Insert - List"
   ]
  },
  {
   "cell_type": "code",
   "execution_count": 43,
   "id": "927d1ab0",
   "metadata": {},
   "outputs": [
    {
     "data": {
      "text/plain": [
       "[1, 2, 3, 4, 5, 6, 7]"
      ]
     },
     "execution_count": 43,
     "metadata": {},
     "output_type": "execute_result"
    }
   ],
   "source": [
    "myList = [1,2,3,4,5,6,7]\n",
    "myList"
   ]
  },
  {
   "cell_type": "code",
   "execution_count": 44,
   "id": "a1840e83",
   "metadata": {},
   "outputs": [
    {
     "data": {
      "text/plain": [
       "[1, 2, 33, 4, 5, 6, 7]"
      ]
     },
     "execution_count": 44,
     "metadata": {},
     "output_type": "execute_result"
    }
   ],
   "source": [
    "# Update a list (Time Complexity: O(1), Space Complexity: O(1))\n",
    "# Access then assign\n",
    "myList[2] = 33\n",
    "myList"
   ]
  },
  {
   "cell_type": "code",
   "execution_count": 45,
   "id": "cf06d2d3",
   "metadata": {},
   "outputs": [
    {
     "data": {
      "text/plain": [
       "[1, 2, 3, 4, 5, 6, 7]"
      ]
     },
     "execution_count": 45,
     "metadata": {},
     "output_type": "execute_result"
    }
   ],
   "source": [
    "myList = [1,2,3,4,5,6,7]\n",
    "myList"
   ]
  },
  {
   "cell_type": "code",
   "execution_count": 46,
   "id": "4feb268f",
   "metadata": {},
   "outputs": [
    {
     "data": {
      "text/plain": [
       "[11, 1, 2, 3, 4, 5, 6, 7]"
      ]
     },
     "execution_count": 46,
     "metadata": {},
     "output_type": "execute_result"
    }
   ],
   "source": [
    "# insert() method, insert to 0 index [Time complexity: O(n)]\n",
    "myList.insert(0, 11)\n",
    "myList"
   ]
  },
  {
   "cell_type": "code",
   "execution_count": 47,
   "id": "cea7f532",
   "metadata": {},
   "outputs": [
    {
     "data": {
      "text/plain": [
       "[11, 1, 2, 3, 4, 5, 6, 7, 55]"
      ]
     },
     "execution_count": 47,
     "metadata": {},
     "output_type": "execute_result"
    }
   ],
   "source": [
    "# append() method, added at the end [Time complexity: O(1)]\n",
    "myList.append(55)\n",
    "myList"
   ]
  },
  {
   "cell_type": "code",
   "execution_count": 48,
   "id": "36bd0fe2",
   "metadata": {},
   "outputs": [
    {
     "data": {
      "text/plain": [
       "[11, 1, 2, 3, 4, 5, 6, 7, 55, 11, 12, 13, 14]"
      ]
     },
     "execution_count": 48,
     "metadata": {},
     "output_type": "execute_result"
    }
   ],
   "source": [
    "# extend() method, add another list to the current list [Time complexity: O(n)]\n",
    "# loops through the new list and adds the elements 1 by 1 to the current list.\n",
    "newList = [11,12,13,14]\n",
    "myList.extend(newList)\n",
    "myList"
   ]
  },
  {
   "cell_type": "markdown",
   "id": "f17d20ec",
   "metadata": {},
   "source": [
    "#### Slice / Delete from a List"
   ]
  },
  {
   "cell_type": "code",
   "execution_count": 49,
   "id": "c74c1d2c",
   "metadata": {},
   "outputs": [
    {
     "data": {
      "text/plain": [
       "['a', 'b']"
      ]
     },
     "execution_count": 49,
     "metadata": {},
     "output_type": "execute_result"
    }
   ],
   "source": [
    "myList = [\"a\",\"b\",\"c\",\"d\",\"e\",\"f\"]\n",
    "myList[0:2]"
   ]
  },
  {
   "cell_type": "code",
   "execution_count": 50,
   "id": "20285e98",
   "metadata": {},
   "outputs": [
    {
     "data": {
      "text/plain": [
       "['b', 'c', 'd', 'e', 'f']"
      ]
     },
     "execution_count": 50,
     "metadata": {},
     "output_type": "execute_result"
    }
   ],
   "source": [
    "myList[1:]"
   ]
  },
  {
   "cell_type": "code",
   "execution_count": 51,
   "id": "c40d610f",
   "metadata": {},
   "outputs": [
    {
     "data": {
      "text/plain": [
       "['a', 'b', 'c', 'd', 'e', 'f']"
      ]
     },
     "execution_count": 51,
     "metadata": {},
     "output_type": "execute_result"
    }
   ],
   "source": [
    "myList[:]"
   ]
  },
  {
   "cell_type": "code",
   "execution_count": 52,
   "id": "244ab8fa",
   "metadata": {},
   "outputs": [
    {
     "data": {
      "text/plain": [
       "['x', 'y', 'c', 'd', 'e', 'f']"
      ]
     },
     "execution_count": 52,
     "metadata": {},
     "output_type": "execute_result"
    }
   ],
   "source": [
    "# Update multiple elements\n",
    "myList[0:2] = [\"x\", \"y\"]\n",
    "myList"
   ]
  },
  {
   "cell_type": "markdown",
   "id": "4bcd79ed",
   "metadata": {},
   "source": [
    "Deletion"
   ]
  },
  {
   "cell_type": "code",
   "execution_count": 53,
   "id": "ad65b323",
   "metadata": {},
   "outputs": [],
   "source": [
    "myList = [\"a\",\"b\",\"c\",\"d\",\"e\",\"f\"]"
   ]
  },
  {
   "cell_type": "code",
   "execution_count": 54,
   "id": "d52807b9",
   "metadata": {},
   "outputs": [
    {
     "data": {
      "text/plain": [
       "['a', 'c', 'd', 'e', 'f']"
      ]
     },
     "execution_count": 54,
     "metadata": {},
     "output_type": "execute_result"
    }
   ],
   "source": [
    "# pop() method [Time complexity: O(n) / O(1), Space Complexity: O(1)]\n",
    "myList.pop(1)\n",
    "myList"
   ]
  },
  {
   "cell_type": "code",
   "execution_count": 55,
   "id": "b633aa85",
   "metadata": {},
   "outputs": [
    {
     "data": {
      "text/plain": [
       "['a', 'd', 'e', 'f']"
      ]
     },
     "execution_count": 55,
     "metadata": {},
     "output_type": "execute_result"
    }
   ],
   "source": [
    "# delete() method [Time complexity: O(n), Space Complexity: O(1)]\n",
    "del myList[1]\n",
    "myList"
   ]
  },
  {
   "cell_type": "code",
   "execution_count": 56,
   "id": "06b87d80",
   "metadata": {},
   "outputs": [
    {
     "data": {
      "text/plain": [
       "['a', 'd', 'f']"
      ]
     },
     "execution_count": 56,
     "metadata": {},
     "output_type": "execute_result"
    }
   ],
   "source": [
    "# remove() method [Time complexity: O(1), Space Complexity: O(1)]\n",
    "myList.remove(\"e\")\n",
    "myList"
   ]
  },
  {
   "cell_type": "markdown",
   "id": "eecf6dba",
   "metadata": {},
   "source": [
    "#### Searching for an element in the List"
   ]
  },
  {
   "cell_type": "code",
   "execution_count": 57,
   "id": "194b8604",
   "metadata": {},
   "outputs": [],
   "source": [
    "myList = [10, 20, 30, 40, 50, 60, 70 , 80, 90]"
   ]
  },
  {
   "cell_type": "code",
   "execution_count": 61,
   "id": "49bcfe4b",
   "metadata": {},
   "outputs": [
    {
     "name": "stdout",
     "output_type": "stream",
     "text": [
      "1\n"
     ]
    }
   ],
   "source": [
    "# \"in\" operator [Time complexity: O(n) checks for all elements one by one]\n",
    "if 20 in myList:\n",
    "    print(myList.index(20))\n",
    "else:\n",
    "    print(\"The value does not exist in the list.\")"
   ]
  },
  {
   "cell_type": "code",
   "execution_count": 63,
   "id": "f5e54f3b",
   "metadata": {},
   "outputs": [
    {
     "data": {
      "text/plain": [
       "4"
      ]
     },
     "execution_count": 63,
     "metadata": {},
     "output_type": "execute_result"
    }
   ],
   "source": [
    "# Linear search [Time complexity: O(n) because there is a for loop, space complexity is O(1)]\n",
    "def searchInList(list, value):\n",
    "    for i in list:\n",
    "        if i == value: \n",
    "            return list.index(value)\n",
    "    return \"The value does not exist in the list\"\n",
    "\n",
    "searchInList(myList, 50)"
   ]
  },
  {
   "cell_type": "markdown",
   "id": "9c3b0fc3",
   "metadata": {},
   "source": [
    "#### List Operations / Functions"
   ]
  },
  {
   "cell_type": "code",
   "execution_count": 64,
   "id": "ff66eda9",
   "metadata": {},
   "outputs": [],
   "source": [
    "a = [1,2,3]\n",
    "b = [4,5,6]"
   ]
  },
  {
   "cell_type": "code",
   "execution_count": 65,
   "id": "a32453c9",
   "metadata": {},
   "outputs": [
    {
     "data": {
      "text/plain": [
       "[1, 2, 3, 4, 5, 6]"
      ]
     },
     "execution_count": 65,
     "metadata": {},
     "output_type": "execute_result"
    }
   ],
   "source": [
    "# \"+\" operator : concatenate Lists\n",
    "c = a + b\n",
    "c"
   ]
  },
  {
   "cell_type": "code",
   "execution_count": 66,
   "id": "fca1d001",
   "metadata": {},
   "outputs": [
    {
     "data": {
      "text/plain": [
       "[0, 0, 0, 0]"
      ]
     },
     "execution_count": 66,
     "metadata": {},
     "output_type": "execute_result"
    }
   ],
   "source": [
    "# \"*\" operator : repeat the elements\n",
    "a = [0]\n",
    "a = a * 4\n",
    "a"
   ]
  },
  {
   "cell_type": "code",
   "execution_count": 67,
   "id": "92295ae9",
   "metadata": {},
   "outputs": [
    {
     "data": {
      "text/plain": [
       "[0, 1, 0, 1, 0, 1, 0, 1]"
      ]
     },
     "execution_count": 67,
     "metadata": {},
     "output_type": "execute_result"
    }
   ],
   "source": [
    "b = [0, 1]\n",
    "b = b * 4\n",
    "b"
   ]
  },
  {
   "cell_type": "code",
   "execution_count": 69,
   "id": "6c511bb6",
   "metadata": {},
   "outputs": [
    {
     "data": {
      "text/plain": [
       "7"
      ]
     },
     "execution_count": 69,
     "metadata": {},
     "output_type": "execute_result"
    }
   ],
   "source": [
    "a = [0,1,2,3,4,5,6]\n",
    "len(a)"
   ]
  },
  {
   "cell_type": "code",
   "execution_count": 73,
   "id": "b1caf6b4",
   "metadata": {},
   "outputs": [
    {
     "data": {
      "text/plain": [
       "324"
      ]
     },
     "execution_count": 73,
     "metadata": {},
     "output_type": "execute_result"
    }
   ],
   "source": [
    "# max() returns the item with the highest value in the List\n",
    "a = [4, 12, 324, 123]\n",
    "max(a)"
   ]
  },
  {
   "cell_type": "code",
   "execution_count": 74,
   "id": "7fec57e9",
   "metadata": {},
   "outputs": [
    {
     "data": {
      "text/plain": [
       "4"
      ]
     },
     "execution_count": 74,
     "metadata": {},
     "output_type": "execute_result"
    }
   ],
   "source": [
    "# min() returns the item with the lowest value in the list\n",
    "min(a)"
   ]
  },
  {
   "cell_type": "code",
   "execution_count": 75,
   "id": "276225a4",
   "metadata": {},
   "outputs": [
    {
     "data": {
      "text/plain": [
       "463"
      ]
     },
     "execution_count": 75,
     "metadata": {},
     "output_type": "execute_result"
    }
   ],
   "source": [
    "# sum() returns the sum of all items in the List\n",
    "sum(a)"
   ]
  },
  {
   "cell_type": "code",
   "execution_count": 76,
   "id": "41b34a54",
   "metadata": {},
   "outputs": [
    {
     "data": {
      "text/plain": [
       "115.75"
      ]
     },
     "execution_count": 76,
     "metadata": {},
     "output_type": "execute_result"
    }
   ],
   "source": [
    "# can find average\n",
    "sum(a) / len(a)"
   ]
  },
  {
   "cell_type": "code",
   "execution_count": 79,
   "id": "66134dbf",
   "metadata": {},
   "outputs": [
    {
     "name": "stdout",
     "output_type": "stream",
     "text": [
      "Enter a number: 2\n",
      "Enter a number: 3\n",
      "Enter a number: 5\n",
      "Enter a number: 2\n",
      "Enter a number: 4\n",
      "Enter a number: 9\n",
      "Enter a number: done\n"
     ]
    },
    {
     "data": {
      "text/plain": [
       "4.166666666666667"
      ]
     },
     "execution_count": 79,
     "metadata": {},
     "output_type": "execute_result"
    }
   ],
   "source": [
    "# Convert this using list operators and functions\n",
    "total = 0\n",
    "count = 0\n",
    "\n",
    "while True:\n",
    "    userInput = input(\"Enter a number: \")\n",
    "    if userInput.lower() == \"done\": \n",
    "        break\n",
    "    \n",
    "    value = float(userInput)\n",
    "    total += value\n",
    "    count += 1\n",
    "    average = total / count\n",
    "    \n",
    "average"
   ]
  },
  {
   "cell_type": "code",
   "execution_count": 80,
   "id": "7c0db6c4",
   "metadata": {},
   "outputs": [
    {
     "name": "stdout",
     "output_type": "stream",
     "text": [
      "Enter a number: 3\n",
      "Enter a number: 2\n",
      "Enter a number: 5\n",
      "Enter a number: 2\n",
      "Enter a number: 4\n",
      "Enter a number: 9\n",
      "Enter a number: done\n"
     ]
    },
    {
     "data": {
      "text/plain": [
       "4.166666666666667"
      ]
     },
     "execution_count": 80,
     "metadata": {},
     "output_type": "execute_result"
    }
   ],
   "source": [
    "emptyList = []   # or list() for empty list \n",
    "while True:\n",
    "    userInput = input(\"Enter a number: \")\n",
    "    if userInput.lower() == \"done\":\n",
    "        break\n",
    "        \n",
    "    value = float(userInput)\n",
    "    emptyList.append(value)\n",
    "average = sum(emptyList) / len(emptyList)\n",
    "\n",
    "average"
   ]
  },
  {
   "cell_type": "markdown",
   "id": "9d2a5a13",
   "metadata": {},
   "source": [
    "#### Strings and Lists"
   ]
  },
  {
   "cell_type": "code",
   "execution_count": 82,
   "id": "19a11637",
   "metadata": {},
   "outputs": [
    {
     "data": {
      "text/plain": [
       "['s', 'p', 'a', 'm']"
      ]
     },
     "execution_count": 82,
     "metadata": {},
     "output_type": "execute_result"
    }
   ],
   "source": [
    "a = \"spam\"\n",
    "b = list(a)\n",
    "b"
   ]
  },
  {
   "cell_type": "code",
   "execution_count": 83,
   "id": "edcb85d9",
   "metadata": {},
   "outputs": [
    {
     "data": {
      "text/plain": [
       "['spam', 'spam', 'spam']"
      ]
     },
     "execution_count": 83,
     "metadata": {},
     "output_type": "execute_result"
    }
   ],
   "source": [
    "a = \"spam spam spam\"\n",
    "a.split(\" \")    # or a.split()"
   ]
  },
  {
   "cell_type": "code",
   "execution_count": 84,
   "id": "7b7429d5",
   "metadata": {},
   "outputs": [
    {
     "data": {
      "text/plain": [
       "['spam', 'spam1', 'spam2']"
      ]
     },
     "execution_count": 84,
     "metadata": {},
     "output_type": "execute_result"
    }
   ],
   "source": [
    "a = \"spam-spam1-spam2\"\n",
    "a.split(\"-\")"
   ]
  },
  {
   "cell_type": "code",
   "execution_count": 87,
   "id": "b2dc1087",
   "metadata": {},
   "outputs": [
    {
     "data": {
      "text/plain": [
       "['sp', 'm-sp', 'm1-sp', 'm2']"
      ]
     },
     "execution_count": 87,
     "metadata": {},
     "output_type": "execute_result"
    }
   ],
   "source": [
    "# join() function\n",
    "a = \"spam-spam1-spam2\"\n",
    "delimiter = \"a\"\n",
    "b = a.split(delimiter)\n",
    "b"
   ]
  },
  {
   "cell_type": "code",
   "execution_count": 90,
   "id": "75b5875b",
   "metadata": {},
   "outputs": [
    {
     "data": {
      "text/plain": [
       "'spam-spam1-spam2'"
      ]
     },
     "execution_count": 90,
     "metadata": {},
     "output_type": "execute_result"
    }
   ],
   "source": [
    "delimiter = \"a\"\n",
    "delimiter.join(b)"
   ]
  },
  {
   "cell_type": "markdown",
   "id": "1b3781ca",
   "metadata": {},
   "source": [
    "#### Common List Pitfalls and common ways to avoid them"
   ]
  },
  {
   "cell_type": "code",
   "execution_count": 91,
   "id": "62ffd8a0",
   "metadata": {},
   "outputs": [],
   "source": [
    "# returns None when you reassign\n",
    "myList = [2,4,3,1,5,7]\n",
    "myList = myList.sort()\n",
    "myList"
   ]
  },
  {
   "cell_type": "code",
   "execution_count": 100,
   "id": "bdab2041",
   "metadata": {},
   "outputs": [
    {
     "data": {
      "text/plain": [
       "[1, 2, 3, 4, 5, 7]"
      ]
     },
     "execution_count": 100,
     "metadata": {},
     "output_type": "execute_result"
    }
   ],
   "source": [
    "myList = [2,4,3,1,5,7]\n",
    "myList.sort()\n",
    "myList # however this affects the original list"
   ]
  },
  {
   "cell_type": "code",
   "execution_count": 101,
   "id": "0b67c8e6",
   "metadata": {},
   "outputs": [
    {
     "name": "stdout",
     "output_type": "stream",
     "text": [
      "Original List [2, 4, 3, 1, 5, 7]\n",
      "Sorted List [1, 2, 3, 4, 5, 7]\n"
     ]
    }
   ],
   "source": [
    "myList = [2,4,3,1,5,7]\n",
    "orig = myList[:]\n",
    "myList.sort()\n",
    "print(\"Original List\", orig)\n",
    "print(\"Sorted List\", myList)"
   ]
  },
  {
   "cell_type": "markdown",
   "id": "5f8598ce",
   "metadata": {},
   "source": [
    "append()"
   ]
  },
  {
   "cell_type": "code",
   "execution_count": 93,
   "id": "5f6a72d0",
   "metadata": {},
   "outputs": [
    {
     "data": {
      "text/plain": [
       "[2, 4, 3, 1, 5, 7, 10]"
      ]
     },
     "execution_count": 93,
     "metadata": {},
     "output_type": "execute_result"
    }
   ],
   "source": [
    "myList = [2,4,3,1,5,7]\n",
    "myList.append(10)\n",
    "myList"
   ]
  },
  {
   "cell_type": "code",
   "execution_count": 99,
   "id": "35cc5c87",
   "metadata": {},
   "outputs": [
    {
     "data": {
      "text/plain": [
       "[2, 4, 3, 1, 5, 7, 10]"
      ]
     },
     "execution_count": 99,
     "metadata": {},
     "output_type": "execute_result"
    }
   ],
   "source": [
    "myList = [2,4,3,1,5,7]\n",
    "myList += [10]\n",
    "myList"
   ]
  },
  {
   "cell_type": "markdown",
   "id": "17243d4b",
   "metadata": {},
   "source": [
    "### Arrays vs List\n",
    "Similarities:\n",
    "- Both data structures are mutable.\n",
    "- Both can be indexed and iterated through.\n",
    "- They can both be sliced."
   ]
  },
  {
   "cell_type": "code",
   "execution_count": 102,
   "id": "f1906905",
   "metadata": {},
   "outputs": [],
   "source": [
    "import numpy as np\n",
    "myArray = np.array([1,2,3,4,5,6])\n",
    "myList = [1,2,3,4,5,6]"
   ]
  },
  {
   "cell_type": "code",
   "execution_count": 103,
   "id": "4b1eac21",
   "metadata": {},
   "outputs": [
    {
     "data": {
      "text/plain": [
       "array([0.5, 1. , 1.5, 2. , 2.5, 3. ])"
      ]
     },
     "execution_count": 103,
     "metadata": {},
     "output_type": "execute_result"
    }
   ],
   "source": [
    "# Can perform arithmetic operations on arrays\n",
    "myArray/2"
   ]
  },
  {
   "cell_type": "code",
   "execution_count": 105,
   "id": "6a4eeb79",
   "metadata": {},
   "outputs": [],
   "source": [
    "# error\n",
    "# myList/2"
   ]
  },
  {
   "cell_type": "code",
   "execution_count": 106,
   "id": "f5cd98c6",
   "metadata": {},
   "outputs": [
    {
     "data": {
      "text/plain": [
       "array(['1', '2', '3', '4', '5', '6', 'a'], dtype='<U11')"
      ]
     },
     "execution_count": 106,
     "metadata": {},
     "output_type": "execute_result"
    }
   ],
   "source": [
    "# Array must have same data type element\n",
    "myArray = np.array([1,2,3,4,5,6,'a'])\n",
    "myArray    # converted everthing to string"
   ]
  },
  {
   "cell_type": "code",
   "execution_count": 107,
   "id": "bbc074c7",
   "metadata": {},
   "outputs": [
    {
     "data": {
      "text/plain": [
       "[1, 2, 3, 4, 5, 6, 'a']"
      ]
     },
     "execution_count": 107,
     "metadata": {},
     "output_type": "execute_result"
    }
   ],
   "source": [
    "myList = [1,2,3,4,5,6, \"a\"]\n",
    "myList"
   ]
  },
  {
   "cell_type": "code",
   "execution_count": null,
   "id": "64ba0b7c",
   "metadata": {},
   "outputs": [],
   "source": []
  },
  {
   "cell_type": "code",
   "execution_count": null,
   "id": "38d65caf",
   "metadata": {},
   "outputs": [],
   "source": []
  },
  {
   "cell_type": "code",
   "execution_count": null,
   "id": "9afae15a",
   "metadata": {},
   "outputs": [],
   "source": []
  },
  {
   "cell_type": "code",
   "execution_count": null,
   "id": "5418cb3e",
   "metadata": {},
   "outputs": [],
   "source": []
  },
  {
   "cell_type": "code",
   "execution_count": null,
   "id": "349c26cb",
   "metadata": {},
   "outputs": [],
   "source": []
  },
  {
   "cell_type": "code",
   "execution_count": null,
   "id": "52ce5f7a",
   "metadata": {},
   "outputs": [],
   "source": []
  },
  {
   "cell_type": "code",
   "execution_count": null,
   "id": "b8740560",
   "metadata": {},
   "outputs": [],
   "source": []
  },
  {
   "cell_type": "code",
   "execution_count": null,
   "id": "d89cc25d",
   "metadata": {},
   "outputs": [],
   "source": []
  },
  {
   "cell_type": "code",
   "execution_count": null,
   "id": "44069068",
   "metadata": {},
   "outputs": [],
   "source": []
  },
  {
   "cell_type": "code",
   "execution_count": null,
   "id": "f2c81e95",
   "metadata": {},
   "outputs": [],
   "source": []
  },
  {
   "cell_type": "code",
   "execution_count": null,
   "id": "289d67e2",
   "metadata": {},
   "outputs": [],
   "source": []
  },
  {
   "cell_type": "code",
   "execution_count": null,
   "id": "25e35cc6",
   "metadata": {},
   "outputs": [],
   "source": []
  },
  {
   "cell_type": "code",
   "execution_count": null,
   "id": "958b99f6",
   "metadata": {},
   "outputs": [],
   "source": []
  },
  {
   "cell_type": "code",
   "execution_count": null,
   "id": "2b7e7693",
   "metadata": {},
   "outputs": [],
   "source": []
  },
  {
   "cell_type": "code",
   "execution_count": null,
   "id": "1634ad41",
   "metadata": {},
   "outputs": [],
   "source": []
  },
  {
   "cell_type": "code",
   "execution_count": null,
   "id": "77ba44d7",
   "metadata": {},
   "outputs": [],
   "source": []
  },
  {
   "cell_type": "code",
   "execution_count": null,
   "id": "408b831f",
   "metadata": {},
   "outputs": [],
   "source": []
  },
  {
   "cell_type": "code",
   "execution_count": null,
   "id": "5333d2e7",
   "metadata": {},
   "outputs": [],
   "source": []
  },
  {
   "cell_type": "code",
   "execution_count": null,
   "id": "b2f5ea31",
   "metadata": {},
   "outputs": [],
   "source": []
  },
  {
   "cell_type": "code",
   "execution_count": null,
   "id": "a5f83318",
   "metadata": {},
   "outputs": [],
   "source": []
  },
  {
   "cell_type": "code",
   "execution_count": null,
   "id": "3632cec9",
   "metadata": {},
   "outputs": [],
   "source": []
  },
  {
   "cell_type": "code",
   "execution_count": null,
   "id": "ddba85a9",
   "metadata": {},
   "outputs": [],
   "source": []
  },
  {
   "cell_type": "code",
   "execution_count": null,
   "id": "3f04c79f",
   "metadata": {},
   "outputs": [],
   "source": []
  },
  {
   "cell_type": "code",
   "execution_count": null,
   "id": "b0f68a29",
   "metadata": {},
   "outputs": [],
   "source": []
  },
  {
   "cell_type": "code",
   "execution_count": null,
   "id": "64899b0c",
   "metadata": {},
   "outputs": [],
   "source": []
  },
  {
   "cell_type": "code",
   "execution_count": null,
   "id": "f838dc2a",
   "metadata": {},
   "outputs": [],
   "source": []
  },
  {
   "cell_type": "code",
   "execution_count": null,
   "id": "1ce5a574",
   "metadata": {},
   "outputs": [],
   "source": []
  },
  {
   "cell_type": "code",
   "execution_count": null,
   "id": "4301c3b3",
   "metadata": {},
   "outputs": [],
   "source": []
  },
  {
   "cell_type": "code",
   "execution_count": null,
   "id": "ed39fce3",
   "metadata": {},
   "outputs": [],
   "source": []
  },
  {
   "cell_type": "code",
   "execution_count": null,
   "id": "bb48a105",
   "metadata": {},
   "outputs": [],
   "source": []
  },
  {
   "cell_type": "code",
   "execution_count": null,
   "id": "6bc879cb",
   "metadata": {},
   "outputs": [],
   "source": []
  },
  {
   "cell_type": "code",
   "execution_count": null,
   "id": "448d80a8",
   "metadata": {},
   "outputs": [],
   "source": []
  },
  {
   "cell_type": "code",
   "execution_count": null,
   "id": "c56e0621",
   "metadata": {},
   "outputs": [],
   "source": []
  },
  {
   "cell_type": "code",
   "execution_count": null,
   "id": "42b80cdd",
   "metadata": {},
   "outputs": [],
   "source": []
  },
  {
   "cell_type": "code",
   "execution_count": null,
   "id": "21a0bfcf",
   "metadata": {},
   "outputs": [],
   "source": []
  },
  {
   "cell_type": "code",
   "execution_count": null,
   "id": "b972bb2a",
   "metadata": {},
   "outputs": [],
   "source": []
  },
  {
   "cell_type": "code",
   "execution_count": null,
   "id": "81cd3c9a",
   "metadata": {},
   "outputs": [],
   "source": []
  },
  {
   "cell_type": "code",
   "execution_count": null,
   "id": "9d907ce5",
   "metadata": {},
   "outputs": [],
   "source": []
  },
  {
   "cell_type": "code",
   "execution_count": null,
   "id": "88364f3a",
   "metadata": {},
   "outputs": [],
   "source": []
  },
  {
   "cell_type": "code",
   "execution_count": null,
   "id": "bfec1336",
   "metadata": {},
   "outputs": [],
   "source": []
  },
  {
   "cell_type": "code",
   "execution_count": null,
   "id": "cd50b490",
   "metadata": {},
   "outputs": [],
   "source": []
  },
  {
   "cell_type": "code",
   "execution_count": null,
   "id": "9a96b5fc",
   "metadata": {},
   "outputs": [],
   "source": []
  },
  {
   "cell_type": "code",
   "execution_count": null,
   "id": "7a5c3d26",
   "metadata": {},
   "outputs": [],
   "source": []
  },
  {
   "cell_type": "code",
   "execution_count": null,
   "id": "1206abb3",
   "metadata": {},
   "outputs": [],
   "source": []
  },
  {
   "cell_type": "code",
   "execution_count": null,
   "id": "cf86bd56",
   "metadata": {},
   "outputs": [],
   "source": []
  },
  {
   "cell_type": "code",
   "execution_count": null,
   "id": "38221b91",
   "metadata": {},
   "outputs": [],
   "source": []
  },
  {
   "cell_type": "code",
   "execution_count": null,
   "id": "f219609e",
   "metadata": {},
   "outputs": [],
   "source": []
  },
  {
   "cell_type": "code",
   "execution_count": null,
   "id": "c1eafb84",
   "metadata": {},
   "outputs": [],
   "source": []
  },
  {
   "cell_type": "code",
   "execution_count": null,
   "id": "be460296",
   "metadata": {},
   "outputs": [],
   "source": []
  },
  {
   "cell_type": "code",
   "execution_count": null,
   "id": "7e1678fb",
   "metadata": {},
   "outputs": [],
   "source": []
  }
 ],
 "metadata": {
  "kernelspec": {
   "display_name": "Python 3.10.4 64-bit",
   "language": "python",
   "name": "python3"
  },
  "language_info": {
   "codemirror_mode": {
    "name": "ipython",
    "version": 3
   },
   "file_extension": ".py",
   "mimetype": "text/x-python",
   "name": "python",
   "nbconvert_exporter": "python",
   "pygments_lexer": "ipython3",
   "version": "3.10.4"
  },
  "vscode": {
   "interpreter": {
    "hash": "1f77a9bf1b2b07eff0a94386bff0c99c292626568e08c9028e7f66dffdc5179c"
   }
  }
 },
 "nbformat": 4,
 "nbformat_minor": 5
}
